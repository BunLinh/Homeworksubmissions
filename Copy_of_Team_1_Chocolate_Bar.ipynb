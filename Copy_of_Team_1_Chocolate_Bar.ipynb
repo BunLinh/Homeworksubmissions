{
  "nbformat": 4,
  "nbformat_minor": 0,
  "metadata": {
    "kernelspec": {
      "display_name": "Python 3",
      "language": "python",
      "name": "python3"
    },
    "language_info": {
      "codemirror_mode": {
        "name": "ipython",
        "version": 3
      },
      "file_extension": ".py",
      "mimetype": "text/x-python",
      "name": "python",
      "nbconvert_exporter": "python",
      "pygments_lexer": "ipython3",
      "version": "3.7.3"
    },
    "colab": {
      "name": "Copy of Team 1 - Chocolate Bar.ipynb",
      "version": "0.3.2",
      "provenance": [],
      "collapsed_sections": []
    }
  },
  "cells": [
    {
      "cell_type": "markdown",
      "metadata": {
        "id": "0dYCvb186Z51",
        "colab_type": "text"
      },
      "source": [
        "# Team 1 - Chocolate Bar\n",
        "\n",
        "![](https://img.newatlas.com/cocoa-tree-domestication-chocolate-1.jpg?auto=format%2Ccompress&ch=Width%2CDPR&fit=crop&h=347&q=60&rect=0%2C18%2C1620%2C911&w=616&s=2c0f902d21b734d77c99fd13171fb979)\n",
        "\n",
        "_For more information about the dataset, read [here](https://www.kaggle.com/rtatman/chocolate-bar-ratings)._\n",
        "\n",
        "## Your tasks\n",
        "- Name your team!\n",
        "- Read the source and do some quick research to understand more about the dataset and its topic\n",
        "- Clean the data\n",
        "- Perform Exploratory Data Analysis on the dataset\n",
        "- Analyze the data more deeply and extract insights\n",
        "- Visualize your analysis on Google Data Studio\n",
        "- Present your works in front of the class and guests next Monday\n",
        "\n",
        "## Submission Guide\n",
        "- Create a Github repository for your project\n",
        "- Upload the dataset (.csv file) and the Jupyter Notebook to your Github repository. In the Jupyter Notebook, **include the link to your Google Data Studio report**.\n",
        "- Submit your works through this [Google Form](https://forms.gle/oxtXpGfS8JapVj3V8).\n",
        "\n",
        "## Tips for Data Cleaning, Manipulation & Visualization\n",
        "- Here are some of our tips for Data Cleaning, Manipulation & Visualization. [Click here](https://hackmd.io/cBNV7E6TT2WMliQC-GTw1A)\n",
        "\n",
        "_____________________________\n",
        "\n",
        "## Some Hints for This Dataset:\n",
        "- There are lots of poorly labeled data in `Broad Bean Origin` column.\n",
        "- There are some rows in `Broad Bean Origin` with multiple values, those values will create errors in our data. \n",
        "- How can we get rid of the `%` sign in `Cocoa Percent` column?\n",
        "- And more..."
      ]
    },
    {
      "cell_type": "code",
      "metadata": {
        "id": "Q1KHJ9dV6Z52",
        "colab_type": "code",
        "outputId": "f5b2c450-431d-4d1c-aa6a-cc9206c2dbd7",
        "colab": {
          "base_uri": "https://localhost:8080/",
          "height": 221
        }
      },
      "source": [
        "# Start your codes here!\n",
        "!pip install --upgrade -q gspread\n",
        "!pip install gspread oauth2client\n",
        "# gspread"
      ],
      "execution_count": 66,
      "outputs": [
        {
          "output_type": "stream",
          "text": [
            "Requirement already satisfied: gspread in /usr/local/lib/python3.6/dist-packages (3.1.0)\n",
            "Requirement already satisfied: oauth2client in /usr/local/lib/python3.6/dist-packages (4.1.3)\n",
            "Requirement already satisfied: requests>=2.2.1 in /usr/local/lib/python3.6/dist-packages (from gspread) (2.21.0)\n",
            "Requirement already satisfied: pyasn1-modules>=0.0.5 in /usr/local/lib/python3.6/dist-packages (from oauth2client) (0.2.6)\n",
            "Requirement already satisfied: pyasn1>=0.1.7 in /usr/local/lib/python3.6/dist-packages (from oauth2client) (0.4.6)\n",
            "Requirement already satisfied: httplib2>=0.9.1 in /usr/local/lib/python3.6/dist-packages (from oauth2client) (0.11.3)\n",
            "Requirement already satisfied: rsa>=3.1.4 in /usr/local/lib/python3.6/dist-packages (from oauth2client) (4.0)\n",
            "Requirement already satisfied: six>=1.6.1 in /usr/local/lib/python3.6/dist-packages (from oauth2client) (1.12.0)\n",
            "Requirement already satisfied: chardet<3.1.0,>=3.0.2 in /usr/local/lib/python3.6/dist-packages (from requests>=2.2.1->gspread) (3.0.4)\n",
            "Requirement already satisfied: urllib3<1.25,>=1.21.1 in /usr/local/lib/python3.6/dist-packages (from requests>=2.2.1->gspread) (1.24.3)\n",
            "Requirement already satisfied: certifi>=2017.4.17 in /usr/local/lib/python3.6/dist-packages (from requests>=2.2.1->gspread) (2019.6.16)\n",
            "Requirement already satisfied: idna<2.9,>=2.5 in /usr/local/lib/python3.6/dist-packages (from requests>=2.2.1->gspread) (2.8)\n"
          ],
          "name": "stdout"
        }
      ]
    },
    {
      "cell_type": "code",
      "metadata": {
        "id": "kfNC7Xch9m6N",
        "colab_type": "code",
        "colab": {}
      },
      "source": [
        "from google.colab import auth\n",
        "auth.authenticate_user()\n",
        "\n",
        "import gspread \n",
        "from oauth2client.client import GoogleCredentials\n",
        "from gspread_dataframe import get_as_dataframe, set_with_dataframe \n"
      ],
      "execution_count": 0,
      "outputs": []
    },
    {
      "cell_type": "code",
      "metadata": {
        "id": "L15YYwma97mu",
        "colab_type": "code",
        "colab": {}
      },
      "source": [
        "gc = gspread.authorize(GoogleCredentials.get_application_default()) #grant access to google drive \n"
      ],
      "execution_count": 0,
      "outputs": []
    },
    {
      "cell_type": "code",
      "metadata": {
        "id": "NFlwmDxz74yE",
        "colab_type": "code",
        "colab": {}
      },
      "source": [
        "import numpy as np\n",
        "import pandas as pd\n",
        "import seaborn as sns\n",
        "import matplotlib.pyplot as plt\n",
        "%matplotlib inline\n",
        "import warnings\n",
        "warnings.filterwarnings('ignore')"
      ],
      "execution_count": 0,
      "outputs": []
    },
    {
      "cell_type": "code",
      "metadata": {
        "id": "-yYZ8iMRPGLH",
        "colab_type": "code",
        "outputId": "10439ac0-274d-4c37-e3bb-36165b296e6a",
        "colab": {
          "base_uri": "https://localhost:8080/",
          "height": 34
        }
      },
      "source": [
        "from google.colab import drive\n",
        "drive.mount('/content/gdrive')"
      ],
      "execution_count": 59,
      "outputs": [
        {
          "output_type": "stream",
          "text": [
            "Drive already mounted at /content/gdrive; to attempt to forcibly remount, call drive.mount(\"/content/gdrive\", force_remount=True).\n"
          ],
          "name": "stdout"
        }
      ]
    },
    {
      "cell_type": "code",
      "metadata": {
        "id": "rVJO_zC976pN",
        "colab_type": "code",
        "colab": {}
      },
      "source": [
        "link = 'gdrive/My Drive/chocolate.csv'\n",
        "choco_bar1= pd.read_csv(link)\n",
        "choco_bar=choco_bar1"
      ],
      "execution_count": 0,
      "outputs": []
    },
    {
      "cell_type": "code",
      "metadata": {
        "id": "HWBY5vLU79_o",
        "colab_type": "code",
        "outputId": "9f854256-3bfd-4051-8c1d-342fffe8a257",
        "colab": {
          "base_uri": "https://localhost:8080/",
          "height": 514
        }
      },
      "source": [
        "choco_bar.head(15)"
      ],
      "execution_count": 61,
      "outputs": [
        {
          "output_type": "execute_result",
          "data": {
            "text/html": [
              "<div>\n",
              "<style scoped>\n",
              "    .dataframe tbody tr th:only-of-type {\n",
              "        vertical-align: middle;\n",
              "    }\n",
              "\n",
              "    .dataframe tbody tr th {\n",
              "        vertical-align: top;\n",
              "    }\n",
              "\n",
              "    .dataframe thead th {\n",
              "        text-align: right;\n",
              "    }\n",
              "</style>\n",
              "<table border=\"1\" class=\"dataframe\">\n",
              "  <thead>\n",
              "    <tr style=\"text-align: right;\">\n",
              "      <th></th>\n",
              "      <th>Company \n",
              "(Maker-if known)</th>\n",
              "      <th>Specific Bean Origin\n",
              "or Bar Name</th>\n",
              "      <th>REF</th>\n",
              "      <th>Review\n",
              "Date</th>\n",
              "      <th>Cocoa\n",
              "Percent</th>\n",
              "      <th>Company\n",
              "Location</th>\n",
              "      <th>Rating</th>\n",
              "      <th>Bean\n",
              "Type</th>\n",
              "      <th>Broad Bean\n",
              "Origin</th>\n",
              "    </tr>\n",
              "  </thead>\n",
              "  <tbody>\n",
              "    <tr>\n",
              "      <th>0</th>\n",
              "      <td>A. Morin</td>\n",
              "      <td>Agua Grande</td>\n",
              "      <td>1876</td>\n",
              "      <td>2016</td>\n",
              "      <td>63%</td>\n",
              "      <td>France</td>\n",
              "      <td>3.75</td>\n",
              "      <td></td>\n",
              "      <td>Sao Tome</td>\n",
              "    </tr>\n",
              "    <tr>\n",
              "      <th>1</th>\n",
              "      <td>A. Morin</td>\n",
              "      <td>Kpime</td>\n",
              "      <td>1676</td>\n",
              "      <td>2015</td>\n",
              "      <td>70%</td>\n",
              "      <td>France</td>\n",
              "      <td>2.75</td>\n",
              "      <td></td>\n",
              "      <td>Togo</td>\n",
              "    </tr>\n",
              "    <tr>\n",
              "      <th>2</th>\n",
              "      <td>A. Morin</td>\n",
              "      <td>Atsane</td>\n",
              "      <td>1676</td>\n",
              "      <td>2015</td>\n",
              "      <td>70%</td>\n",
              "      <td>France</td>\n",
              "      <td>3.00</td>\n",
              "      <td></td>\n",
              "      <td>Togo</td>\n",
              "    </tr>\n",
              "    <tr>\n",
              "      <th>3</th>\n",
              "      <td>A. Morin</td>\n",
              "      <td>Akata</td>\n",
              "      <td>1680</td>\n",
              "      <td>2015</td>\n",
              "      <td>70%</td>\n",
              "      <td>France</td>\n",
              "      <td>3.50</td>\n",
              "      <td></td>\n",
              "      <td>Togo</td>\n",
              "    </tr>\n",
              "    <tr>\n",
              "      <th>4</th>\n",
              "      <td>A. Morin</td>\n",
              "      <td>Quilla</td>\n",
              "      <td>1704</td>\n",
              "      <td>2015</td>\n",
              "      <td>70%</td>\n",
              "      <td>France</td>\n",
              "      <td>3.50</td>\n",
              "      <td></td>\n",
              "      <td>Peru</td>\n",
              "    </tr>\n",
              "    <tr>\n",
              "      <th>5</th>\n",
              "      <td>A. Morin</td>\n",
              "      <td>Carenero</td>\n",
              "      <td>1315</td>\n",
              "      <td>2014</td>\n",
              "      <td>70%</td>\n",
              "      <td>France</td>\n",
              "      <td>2.75</td>\n",
              "      <td>Criollo</td>\n",
              "      <td>Venezuela</td>\n",
              "    </tr>\n",
              "    <tr>\n",
              "      <th>6</th>\n",
              "      <td>A. Morin</td>\n",
              "      <td>Cuba</td>\n",
              "      <td>1315</td>\n",
              "      <td>2014</td>\n",
              "      <td>70%</td>\n",
              "      <td>France</td>\n",
              "      <td>3.50</td>\n",
              "      <td></td>\n",
              "      <td>Cuba</td>\n",
              "    </tr>\n",
              "    <tr>\n",
              "      <th>7</th>\n",
              "      <td>A. Morin</td>\n",
              "      <td>Sur del Lago</td>\n",
              "      <td>1315</td>\n",
              "      <td>2014</td>\n",
              "      <td>70%</td>\n",
              "      <td>France</td>\n",
              "      <td>3.50</td>\n",
              "      <td>Criollo</td>\n",
              "      <td>Venezuela</td>\n",
              "    </tr>\n",
              "    <tr>\n",
              "      <th>8</th>\n",
              "      <td>A. Morin</td>\n",
              "      <td>Puerto Cabello</td>\n",
              "      <td>1319</td>\n",
              "      <td>2014</td>\n",
              "      <td>70%</td>\n",
              "      <td>France</td>\n",
              "      <td>3.75</td>\n",
              "      <td>Criollo</td>\n",
              "      <td>Venezuela</td>\n",
              "    </tr>\n",
              "    <tr>\n",
              "      <th>9</th>\n",
              "      <td>A. Morin</td>\n",
              "      <td>Pablino</td>\n",
              "      <td>1319</td>\n",
              "      <td>2014</td>\n",
              "      <td>70%</td>\n",
              "      <td>France</td>\n",
              "      <td>4.00</td>\n",
              "      <td></td>\n",
              "      <td>Peru</td>\n",
              "    </tr>\n",
              "    <tr>\n",
              "      <th>10</th>\n",
              "      <td>A. Morin</td>\n",
              "      <td>Panama</td>\n",
              "      <td>1011</td>\n",
              "      <td>2013</td>\n",
              "      <td>70%</td>\n",
              "      <td>France</td>\n",
              "      <td>2.75</td>\n",
              "      <td></td>\n",
              "      <td>Panama</td>\n",
              "    </tr>\n",
              "    <tr>\n",
              "      <th>11</th>\n",
              "      <td>A. Morin</td>\n",
              "      <td>Madagascar</td>\n",
              "      <td>1011</td>\n",
              "      <td>2013</td>\n",
              "      <td>70%</td>\n",
              "      <td>France</td>\n",
              "      <td>3.00</td>\n",
              "      <td>Criollo</td>\n",
              "      <td>Madagascar</td>\n",
              "    </tr>\n",
              "    <tr>\n",
              "      <th>12</th>\n",
              "      <td>A. Morin</td>\n",
              "      <td>Brazil</td>\n",
              "      <td>1011</td>\n",
              "      <td>2013</td>\n",
              "      <td>70%</td>\n",
              "      <td>France</td>\n",
              "      <td>3.25</td>\n",
              "      <td></td>\n",
              "      <td>Brazil</td>\n",
              "    </tr>\n",
              "    <tr>\n",
              "      <th>13</th>\n",
              "      <td>A. Morin</td>\n",
              "      <td>Equateur</td>\n",
              "      <td>1011</td>\n",
              "      <td>2013</td>\n",
              "      <td>70%</td>\n",
              "      <td>France</td>\n",
              "      <td>3.75</td>\n",
              "      <td></td>\n",
              "      <td>Ecuador</td>\n",
              "    </tr>\n",
              "    <tr>\n",
              "      <th>14</th>\n",
              "      <td>A. Morin</td>\n",
              "      <td>Colombie</td>\n",
              "      <td>1015</td>\n",
              "      <td>2013</td>\n",
              "      <td>70%</td>\n",
              "      <td>France</td>\n",
              "      <td>2.75</td>\n",
              "      <td></td>\n",
              "      <td>Colombia</td>\n",
              "    </tr>\n",
              "  </tbody>\n",
              "</table>\n",
              "</div>"
            ],
            "text/plain": [
              "   Company \\n(Maker-if known)  ... Broad Bean\\nOrigin\n",
              "0                    A. Morin  ...           Sao Tome\n",
              "1                    A. Morin  ...               Togo\n",
              "2                    A. Morin  ...               Togo\n",
              "3                    A. Morin  ...               Togo\n",
              "4                    A. Morin  ...               Peru\n",
              "5                    A. Morin  ...          Venezuela\n",
              "6                    A. Morin  ...               Cuba\n",
              "7                    A. Morin  ...          Venezuela\n",
              "8                    A. Morin  ...          Venezuela\n",
              "9                    A. Morin  ...               Peru\n",
              "10                   A. Morin  ...             Panama\n",
              "11                   A. Morin  ...         Madagascar\n",
              "12                   A. Morin  ...             Brazil\n",
              "13                   A. Morin  ...            Ecuador\n",
              "14                   A. Morin  ...           Colombia\n",
              "\n",
              "[15 rows x 9 columns]"
            ]
          },
          "metadata": {
            "tags": []
          },
          "execution_count": 61
        }
      ]
    },
    {
      "cell_type": "code",
      "metadata": {
        "id": "nzgXsdx-SpMB",
        "colab_type": "code",
        "outputId": "7fa98f9c-2f33-4ef6-9c2a-f7fbbe72474e",
        "colab": {
          "base_uri": "https://localhost:8080/",
          "height": 204
        }
      },
      "source": [
        "choco_bar.sample(5)"
      ],
      "execution_count": 0,
      "outputs": [
        {
          "output_type": "execute_result",
          "data": {
            "text/html": [
              "<div>\n",
              "<style scoped>\n",
              "    .dataframe tbody tr th:only-of-type {\n",
              "        vertical-align: middle;\n",
              "    }\n",
              "\n",
              "    .dataframe tbody tr th {\n",
              "        vertical-align: top;\n",
              "    }\n",
              "\n",
              "    .dataframe thead th {\n",
              "        text-align: right;\n",
              "    }\n",
              "</style>\n",
              "<table border=\"1\" class=\"dataframe\">\n",
              "  <thead>\n",
              "    <tr style=\"text-align: right;\">\n",
              "      <th></th>\n",
              "      <th>Company(Maker-if known)</th>\n",
              "      <th>Specific Bean Origin or Bar Name</th>\n",
              "      <th>REF</th>\n",
              "      <th>Review Date</th>\n",
              "      <th>Cocoa Percent</th>\n",
              "      <th>Company Location</th>\n",
              "      <th>Rating</th>\n",
              "      <th>Bean Type</th>\n",
              "      <th>Broad Bean Origin</th>\n",
              "    </tr>\n",
              "  </thead>\n",
              "  <tbody>\n",
              "    <tr>\n",
              "      <th>634</th>\n",
              "      <td>Ethel's Artisan (Mars)</td>\n",
              "      <td>Red Vanilla</td>\n",
              "      <td>666</td>\n",
              "      <td>2011</td>\n",
              "      <td>62%</td>\n",
              "      <td>U.S.A.</td>\n",
              "      <td>2.75</td>\n",
              "      <td></td>\n",
              "      <td></td>\n",
              "    </tr>\n",
              "    <tr>\n",
              "      <th>484</th>\n",
              "      <td>Dandelion</td>\n",
              "      <td>Maya Mountain</td>\n",
              "      <td>1219</td>\n",
              "      <td>2014</td>\n",
              "      <td>70%</td>\n",
              "      <td>U.S.A.</td>\n",
              "      <td>3.50</td>\n",
              "      <td>Trinitario</td>\n",
              "      <td>Belize</td>\n",
              "    </tr>\n",
              "    <tr>\n",
              "      <th>406</th>\n",
              "      <td>Chocolate Tree, The</td>\n",
              "      <td>Carenero Superior</td>\n",
              "      <td>1582</td>\n",
              "      <td>2015</td>\n",
              "      <td>80%</td>\n",
              "      <td>Scotland</td>\n",
              "      <td>3.75</td>\n",
              "      <td>Trinitario</td>\n",
              "      <td>Venezuela</td>\n",
              "    </tr>\n",
              "    <tr>\n",
              "      <th>1457</th>\n",
              "      <td>Sibu</td>\n",
              "      <td>Oscuro</td>\n",
              "      <td>1586</td>\n",
              "      <td>2015</td>\n",
              "      <td>70%</td>\n",
              "      <td>Costa Rica</td>\n",
              "      <td>3.50</td>\n",
              "      <td></td>\n",
              "      <td>Costa Rica</td>\n",
              "    </tr>\n",
              "    <tr>\n",
              "      <th>1488</th>\n",
              "      <td>Smooth Chocolator, The</td>\n",
              "      <td>Bolivia</td>\n",
              "      <td>1626</td>\n",
              "      <td>2015</td>\n",
              "      <td>72%</td>\n",
              "      <td>Australia</td>\n",
              "      <td>2.75</td>\n",
              "      <td></td>\n",
              "      <td>Bolivia</td>\n",
              "    </tr>\n",
              "  </tbody>\n",
              "</table>\n",
              "</div>"
            ],
            "text/plain": [
              "     Company(Maker-if known)  ... Broad Bean Origin\n",
              "634   Ethel's Artisan (Mars)  ...                  \n",
              "484                Dandelion  ...            Belize\n",
              "406      Chocolate Tree, The  ...         Venezuela\n",
              "1457                    Sibu  ...        Costa Rica\n",
              "1488  Smooth Chocolator, The  ...           Bolivia\n",
              "\n",
              "[5 rows x 9 columns]"
            ]
          },
          "metadata": {
            "tags": []
          },
          "execution_count": 42
        }
      ]
    },
    {
      "cell_type": "code",
      "metadata": {
        "id": "30WqFOY2QKQV",
        "colab_type": "code",
        "outputId": "29e4fb6e-9b10-4d27-8bd1-fdabbee83637",
        "colab": {
          "base_uri": "https://localhost:8080/",
          "height": 374
        }
      },
      "source": [
        "choco_bar.info()"
      ],
      "execution_count": 0,
      "outputs": [
        {
          "output_type": "stream",
          "text": [
            "<class 'pandas.core.frame.DataFrame'>\n",
            "RangeIndex: 1795 entries, 0 to 1794\n",
            "Data columns (total 9 columns):\n",
            "Company \n",
            "(Maker-if known)           1795 non-null object\n",
            "Specific Bean Origin\n",
            "or Bar Name    1795 non-null object\n",
            "REF                                 1795 non-null int64\n",
            "Review\n",
            "Date                         1795 non-null int64\n",
            "Cocoa\n",
            "Percent                       1795 non-null object\n",
            "Company\n",
            "Location                    1795 non-null object\n",
            "Rating                              1795 non-null float64\n",
            "Bean\n",
            "Type                           1794 non-null object\n",
            "Broad Bean\n",
            "Origin                   1794 non-null object\n",
            "dtypes: float64(1), int64(2), object(6)\n",
            "memory usage: 126.3+ KB\n"
          ],
          "name": "stdout"
        }
      ]
    },
    {
      "cell_type": "code",
      "metadata": {
        "id": "LGdVLc-SSMIY",
        "colab_type": "code",
        "outputId": "40ca3db3-f28b-4a43-91d1-8f58fc1f7220",
        "colab": {
          "base_uri": "https://localhost:8080/",
          "height": 187
        }
      },
      "source": [
        "choco_bar.isnull().sum()"
      ],
      "execution_count": 0,
      "outputs": [
        {
          "output_type": "execute_result",
          "data": {
            "text/plain": [
              "Company \\n(Maker-if known)           0\n",
              "Specific Bean Origin\\nor Bar Name    0\n",
              "REF                                  0\n",
              "Review\\nDate                         0\n",
              "Cocoa\\nPercent                       0\n",
              "Company\\nLocation                    0\n",
              "Rating                               0\n",
              "Bean\\nType                           1\n",
              "Broad Bean\\nOrigin                   1\n",
              "dtype: int64"
            ]
          },
          "metadata": {
            "tags": []
          },
          "execution_count": 12
        }
      ]
    },
    {
      "cell_type": "code",
      "metadata": {
        "id": "3FnNEvW8UnQx",
        "colab_type": "code",
        "outputId": "3385a76e-9e7d-4f39-d5b7-99c231ca2e29",
        "colab": {
          "base_uri": "https://localhost:8080/",
          "height": 85
        }
      },
      "source": [
        "choco_bar.columns"
      ],
      "execution_count": 0,
      "outputs": [
        {
          "output_type": "execute_result",
          "data": {
            "text/plain": [
              "Index(['Company \\n(Maker-if known)', 'Specific Bean Origin\\nor Bar Name',\n",
              "       'REF', 'Review\\nDate', 'Cocoa\\nPercent', 'Company\\nLocation', 'Rating',\n",
              "       'Bean\\nType', 'Broad Bean\\nOrigin'],\n",
              "      dtype='object')"
            ]
          },
          "metadata": {
            "tags": []
          },
          "execution_count": 32
        }
      ]
    },
    {
      "cell_type": "code",
      "metadata": {
        "id": "htruD_W00Z45",
        "colab_type": "code",
        "colab": {}
      },
      "source": [
        "choco_bar.columns= ['Company(Maker-if known)' ,'Specific Bean Origin or Bar Name','REF','Review Date','Cocoa Percent','Company Location','Rating','Bean Type','Broad Bean Origin']"
      ],
      "execution_count": 0,
      "outputs": []
    },
    {
      "cell_type": "code",
      "metadata": {
        "id": "VBmmgc_w0942",
        "colab_type": "code",
        "outputId": "007b7e4f-c059-4654-939d-39f30fc1d167",
        "colab": {
          "base_uri": "https://localhost:8080/",
          "height": 255
        }
      },
      "source": [
        "choco_bar.info()"
      ],
      "execution_count": 0,
      "outputs": [
        {
          "output_type": "stream",
          "text": [
            "<class 'pandas.core.frame.DataFrame'>\n",
            "RangeIndex: 1795 entries, 0 to 1794\n",
            "Data columns (total 9 columns):\n",
            "Company(Maker-if known)             1795 non-null object\n",
            "Specific Bean Origin or Bar Name    1795 non-null object\n",
            "REF                                 1795 non-null int64\n",
            "Review Date                         1795 non-null int64\n",
            "Cocoa Percent                       1795 non-null object\n",
            "Company Location                    1795 non-null object\n",
            "Rating                              1795 non-null float64\n",
            "Bean Type                           1794 non-null object\n",
            "Broad Bean Origin                   1794 non-null object\n",
            "dtypes: float64(1), int64(2), object(6)\n",
            "memory usage: 126.3+ KB\n"
          ],
          "name": "stdout"
        }
      ]
    },
    {
      "cell_type": "code",
      "metadata": {
        "id": "AyEI6A-c7I6v",
        "colab_type": "code",
        "outputId": "f35d71bb-1f0c-40dc-ff8a-38e2fd465fa3",
        "colab": {
          "base_uri": "https://localhost:8080/",
          "height": 297
        }
      },
      "source": [
        "#describe not description \n",
        "choco_bar.describe()"
      ],
      "execution_count": 0,
      "outputs": [
        {
          "output_type": "execute_result",
          "data": {
            "text/html": [
              "<div>\n",
              "<style scoped>\n",
              "    .dataframe tbody tr th:only-of-type {\n",
              "        vertical-align: middle;\n",
              "    }\n",
              "\n",
              "    .dataframe tbody tr th {\n",
              "        vertical-align: top;\n",
              "    }\n",
              "\n",
              "    .dataframe thead th {\n",
              "        text-align: right;\n",
              "    }\n",
              "</style>\n",
              "<table border=\"1\" class=\"dataframe\">\n",
              "  <thead>\n",
              "    <tr style=\"text-align: right;\">\n",
              "      <th></th>\n",
              "      <th>REF</th>\n",
              "      <th>Review Date</th>\n",
              "      <th>Rating</th>\n",
              "    </tr>\n",
              "  </thead>\n",
              "  <tbody>\n",
              "    <tr>\n",
              "      <th>count</th>\n",
              "      <td>1795.000000</td>\n",
              "      <td>1795.000000</td>\n",
              "      <td>1795.000000</td>\n",
              "    </tr>\n",
              "    <tr>\n",
              "      <th>mean</th>\n",
              "      <td>1035.904735</td>\n",
              "      <td>2012.325348</td>\n",
              "      <td>3.185933</td>\n",
              "    </tr>\n",
              "    <tr>\n",
              "      <th>std</th>\n",
              "      <td>552.886365</td>\n",
              "      <td>2.927210</td>\n",
              "      <td>0.478062</td>\n",
              "    </tr>\n",
              "    <tr>\n",
              "      <th>min</th>\n",
              "      <td>5.000000</td>\n",
              "      <td>2006.000000</td>\n",
              "      <td>1.000000</td>\n",
              "    </tr>\n",
              "    <tr>\n",
              "      <th>25%</th>\n",
              "      <td>576.000000</td>\n",
              "      <td>2010.000000</td>\n",
              "      <td>2.875000</td>\n",
              "    </tr>\n",
              "    <tr>\n",
              "      <th>50%</th>\n",
              "      <td>1069.000000</td>\n",
              "      <td>2013.000000</td>\n",
              "      <td>3.250000</td>\n",
              "    </tr>\n",
              "    <tr>\n",
              "      <th>75%</th>\n",
              "      <td>1502.000000</td>\n",
              "      <td>2015.000000</td>\n",
              "      <td>3.500000</td>\n",
              "    </tr>\n",
              "    <tr>\n",
              "      <th>max</th>\n",
              "      <td>1952.000000</td>\n",
              "      <td>2017.000000</td>\n",
              "      <td>5.000000</td>\n",
              "    </tr>\n",
              "  </tbody>\n",
              "</table>\n",
              "</div>"
            ],
            "text/plain": [
              "               REF  Review Date       Rating\n",
              "count  1795.000000  1795.000000  1795.000000\n",
              "mean   1035.904735  2012.325348     3.185933\n",
              "std     552.886365     2.927210     0.478062\n",
              "min       5.000000  2006.000000     1.000000\n",
              "25%     576.000000  2010.000000     2.875000\n",
              "50%    1069.000000  2013.000000     3.250000\n",
              "75%    1502.000000  2015.000000     3.500000\n",
              "max    1952.000000  2017.000000     5.000000"
            ]
          },
          "metadata": {
            "tags": []
          },
          "execution_count": 36
        }
      ]
    },
    {
      "cell_type": "code",
      "metadata": {
        "id": "FMnsGpAT7oab",
        "colab_type": "code",
        "outputId": "a50e34c1-0bbd-48c2-acd4-d3579b76f1ba",
        "colab": {
          "base_uri": "https://localhost:8080/",
          "height": 34
        }
      },
      "source": [
        "choco_bar['Company(Maker-if known)'].nunique() == choco_bar['Company(Maker-if known)'].count()"
      ],
      "execution_count": 0,
      "outputs": [
        {
          "output_type": "execute_result",
          "data": {
            "text/plain": [
              "False"
            ]
          },
          "metadata": {
            "tags": []
          },
          "execution_count": 37
        }
      ]
    },
    {
      "cell_type": "code",
      "metadata": {
        "id": "vlecPK-r1A3N",
        "colab_type": "code",
        "outputId": "3c8e6fce-b346-41bb-aca3-e2ceca270b0f",
        "colab": {
          "base_uri": "https://localhost:8080/",
          "height": 187
        }
      },
      "source": [
        "# clean data\n",
        "# check isnull\n",
        "choco_bar.isnull().sum()"
      ],
      "execution_count": 7,
      "outputs": [
        {
          "output_type": "execute_result",
          "data": {
            "text/plain": [
              "Company(Maker-if known)             0\n",
              "Specific Bean Origin or Bar Name    0\n",
              "REF                                 0\n",
              "Review Date                         0\n",
              "Cocoa Percent                       0\n",
              "Company Location                    0\n",
              "Rating                              0\n",
              "Bean Type                           1\n",
              "Broad Bean Origin                   1\n",
              "dtype: int64"
            ]
          },
          "metadata": {
            "tags": []
          },
          "execution_count": 7
        }
      ]
    },
    {
      "cell_type": "code",
      "metadata": {
        "id": "xFIHXyVyzTeT",
        "colab_type": "code",
        "colab": {}
      },
      "source": [
        "# Fill the blanks\n",
        "choco_bar['Bean Type'].fillna(value=' ', inplace=True)"
      ],
      "execution_count": 0,
      "outputs": []
    },
    {
      "cell_type": "code",
      "metadata": {
        "id": "JtTUZGNPAfc2",
        "colab_type": "code",
        "colab": {}
      },
      "source": [
        "# Fill the blanks\n",
        "choco_bar['Broad Bean Origin'].fillna(value=' ', inplace=True)\n"
      ],
      "execution_count": 0,
      "outputs": []
    },
    {
      "cell_type": "code",
      "metadata": {
        "id": "5pr2R_ff_9H8",
        "colab_type": "code",
        "outputId": "b6a85b0b-c636-421d-f4e5-4602bf49cc1a",
        "colab": {
          "base_uri": "https://localhost:8080/",
          "height": 187
        }
      },
      "source": [
        "choco_bar.isnull().sum()"
      ],
      "execution_count": 9,
      "outputs": [
        {
          "output_type": "execute_result",
          "data": {
            "text/plain": [
              "Company(Maker-if known)             0\n",
              "Specific Bean Origin or Bar Name    0\n",
              "REF                                 0\n",
              "Review Date                         0\n",
              "Cocoa Percent                       0\n",
              "Company Location                    0\n",
              "Rating                              0\n",
              "Bean Type                           1\n",
              "Broad Bean Origin                   0\n",
              "dtype: int64"
            ]
          },
          "metadata": {
            "tags": []
          },
          "execution_count": 9
        }
      ]
    },
    {
      "cell_type": "code",
      "metadata": {
        "id": "CyoEKBTCAP9B",
        "colab_type": "code",
        "outputId": "4bd986e9-b51d-4da6-841a-c1043af1fcb1",
        "colab": {
          "base_uri": "https://localhost:8080/",
          "height": 51
        }
      },
      "source": [
        "choco_bar['Review Date'].unique()"
      ],
      "execution_count": 0,
      "outputs": [
        {
          "output_type": "execute_result",
          "data": {
            "text/plain": [
              "array([2016, 2015, 2014, 2013, 2012, 2011, 2009, 2010, 2017, 2008, 2007,\n",
              "       2006])"
            ]
          },
          "metadata": {
            "tags": []
          },
          "execution_count": 52
        }
      ]
    },
    {
      "cell_type": "code",
      "metadata": {
        "id": "EPKyTutOHe5L",
        "colab_type": "code",
        "outputId": "f1227b9f-8b68-46b7-ff21-67525425e0fb",
        "colab": {
          "base_uri": "https://localhost:8080/",
          "height": 34
        }
      },
      "source": [
        "' '.join([\"\".join(x) for x in choco_bar.columns])"
      ],
      "execution_count": 0,
      "outputs": [
        {
          "output_type": "execute_result",
          "data": {
            "text/plain": [
              "'Company\\xa0(Maker-if known) Specific Bean Originor Bar Name REF ReviewDate CocoaPercent CompanyLocation Rating BeanType Broad BeanOrigin'"
            ]
          },
          "metadata": {
            "tags": []
          },
          "execution_count": 140
        }
      ]
    },
    {
      "cell_type": "code",
      "metadata": {
        "id": "p5VTSUWY3AnI",
        "colab_type": "code",
        "colab": {
          "base_uri": "https://localhost:8080/",
          "height": 51
        },
        "outputId": "9cc7d097-5e05-47a7-d160-0df881a268ff"
      },
      "source": [
        "choco_bar['Rating'].unique()\n"
      ],
      "execution_count": 13,
      "outputs": [
        {
          "output_type": "execute_result",
          "data": {
            "text/plain": [
              "array([3.75, 2.75, 3.  , 3.5 , 4.  , 3.25, 2.5 , 5.  , 1.75, 1.5 , 2.25,\n",
              "       2.  , 1.  ])"
            ]
          },
          "metadata": {
            "tags": []
          },
          "execution_count": 13
        }
      ]
    },
    {
      "cell_type": "code",
      "metadata": {
        "id": "E2P5b2usLsLo",
        "colab_type": "code",
        "colab": {
          "base_uri": "https://localhost:8080/",
          "height": 119
        },
        "outputId": "cb1db9c5-cead-43a7-e9ff-1ac99d87b77d"
      },
      "source": [
        "# Top 5 company choco had rated >= 4.\n",
        "choco_bar.sort_values(by=['Rating'],ascending=False)['Company(Maker-if known)'][:5]"
      ],
      "execution_count": 45,
      "outputs": [
        {
          "output_type": "execute_result",
          "data": {
            "text/plain": [
              "78                      Amedei\n",
              "86                      Amedei\n",
              "222                     Bonnat\n",
              "76                      Amedei\n",
              "1663    Tobago Estate (Pralus)\n",
              "Name: Company(Maker-if known), dtype: object"
            ]
          },
          "metadata": {
            "tags": []
          },
          "execution_count": 45
        }
      ]
    },
    {
      "cell_type": "code",
      "metadata": {
        "id": "sieMJFcdNuJQ",
        "colab_type": "code",
        "colab": {
          "base_uri": "https://localhost:8080/",
          "height": 119
        },
        "outputId": "81061161-be26-44ce-d753-9f2a3ccdde47"
      },
      "source": [
        "# 5 nguyen lieu dc dung pho bien\n",
        "choco_bar['Bean Type'].value_counts()[:5]"
      ],
      "execution_count": 46,
      "outputs": [
        {
          "output_type": "execute_result",
          "data": {
            "text/plain": [
              "                        887\n",
              "Trinitario              419\n",
              "Criollo                 153\n",
              "Forastero                87\n",
              "Forastero (Nacional)     52\n",
              "Name: Bean Type, dtype: int64"
            ]
          },
          "metadata": {
            "tags": []
          },
          "execution_count": 46
        }
      ]
    },
    {
      "cell_type": "markdown",
      "metadata": {
        "id": "81BfOBVzG7je",
        "colab_type": "text"
      },
      "source": [
        "<!-- Plot categorical data -->"
      ]
    },
    {
      "cell_type": "markdown",
      "metadata": {
        "id": "nOKYH5RpG-tn",
        "colab_type": "text"
      },
      "source": [
        "Plot categorical data"
      ]
    },
    {
      "cell_type": "code",
      "metadata": {
        "id": "BJKdVDer0_s5",
        "colab_type": "code",
        "colab": {
          "base_uri": "https://localhost:8080/",
          "height": 283
        },
        "outputId": "b19047ff-55c5-403c-b281-230452b53d3b"
      },
      "source": [
        "sns.countplot(x='Rating',data=choco_bar);\n",
        "# Thanh choco được các chuyên gia đánh giá trên mức 2,5-4. nhiều, một số ít từ 1.-2.25 và rất ít đạt 5."
      ],
      "execution_count": 17,
      "outputs": [
        {
          "output_type": "display_data",
          "data": {
            "image/png": "[encoded data removed]",
            "text/plain": [
              "<Figure size 432x288 with 1 Axes>"
            ]
          },
          "metadata": {
            "tags": []
          }
        }
      ]
    },
    {
      "cell_type": "code",
      "metadata": {
        "id": "UOhd1K4zG3Yh",
        "colab_type": "code",
        "colab": {
          "base_uri": "https://localhost:8080/",
          "height": 269
        },
        "outputId": "a21008dc-8bf0-4403-b30d-5f678808c9c4"
      },
      "source": [
        "# company choco thuong toa lat o dau\n",
        "choco_bar['Company Location'].value_counts()[:5].plot(kind='barh');"
      ],
      "execution_count": 52,
      "outputs": [
        {
          "output_type": "display_data",
          "data": {
            "image/png": "[encoded data removed]",
            "text/plain": [
              "<Figure size 432x288 with 1 Axes>"
            ]
          },
          "metadata": {
            "tags": []
          }
        }
      ]
    },
    {
      "cell_type": "code",
      "metadata": {
        "id": "imlFomEJOpbt",
        "colab_type": "code",
        "colab": {
          "base_uri": "https://localhost:8080/",
          "height": 799
        },
        "outputId": "baea889f-aad8-4b59-9090-140e80e2eda8"
      },
      "source": [
        "# ti le cocoa chiem bao nhieu %\n",
        "choco_bar['Cocoa Percent'].value_counts()\n"
      ],
      "execution_count": 65,
      "outputs": [
        {
          "output_type": "execute_result",
          "data": {
            "text/plain": [
              "70%      672\n",
              "75%      222\n",
              "72%      189\n",
              "65%       78\n",
              "80%       72\n",
              "74%       50\n",
              "68%       47\n",
              "60%       43\n",
              "73%       40\n",
              "85%       36\n",
              "64%       34\n",
              "77%       33\n",
              "71%       31\n",
              "67%       27\n",
              "66%       23\n",
              "76%       23\n",
              "100%      20\n",
              "82%       17\n",
              "78%       17\n",
              "55%       16\n",
              "62%       14\n",
              "63%       12\n",
              "69%       10\n",
              "61%        8\n",
              "58%        8\n",
              "90%        8\n",
              "88%        8\n",
              "81%        5\n",
              "84%        4\n",
              "83%        4\n",
              "72.5%      4\n",
              "91%        3\n",
              "99%        2\n",
              "89%        2\n",
              "56%        2\n",
              "73.5%      2\n",
              "60.5%      1\n",
              "42%        1\n",
              "46%        1\n",
              "79%        1\n",
              "57%        1\n",
              "87%        1\n",
              "50%        1\n",
              "86%        1\n",
              "53%        1\n",
              "Name: Cocoa Percent, dtype: int64"
            ]
          },
          "metadata": {
            "tags": []
          },
          "execution_count": 65
        }
      ]
    },
    {
      "cell_type": "code",
      "metadata": {
        "id": "fX1LN2nDKh1W",
        "colab_type": "code",
        "colab": {
          "base_uri": "https://localhost:8080/",
          "height": 483
        },
        "outputId": "65e13286-ceba-49b8-fb77-a39a6d5964ec"
      },
      "source": [
        "choco_bar.groupby('Rating').sum()"
      ],
      "execution_count": 30,
      "outputs": [
        {
          "output_type": "execute_result",
          "data": {
            "text/html": [
              "<div>\n",
              "<style scoped>\n",
              "    .dataframe tbody tr th:only-of-type {\n",
              "        vertical-align: middle;\n",
              "    }\n",
              "\n",
              "    .dataframe tbody tr th {\n",
              "        vertical-align: top;\n",
              "    }\n",
              "\n",
              "    .dataframe thead th {\n",
              "        text-align: right;\n",
              "    }\n",
              "</style>\n",
              "<table border=\"1\" class=\"dataframe\">\n",
              "  <thead>\n",
              "    <tr style=\"text-align: right;\">\n",
              "      <th></th>\n",
              "      <th>REF</th>\n",
              "      <th>Review Date</th>\n",
              "    </tr>\n",
              "    <tr>\n",
              "      <th>Rating</th>\n",
              "      <th></th>\n",
              "      <th></th>\n",
              "    </tr>\n",
              "  </thead>\n",
              "  <tbody>\n",
              "    <tr>\n",
              "      <th>1.00</th>\n",
              "      <td>576</td>\n",
              "      <td>8028</td>\n",
              "    </tr>\n",
              "    <tr>\n",
              "      <th>1.50</th>\n",
              "      <td>4624</td>\n",
              "      <td>20092</td>\n",
              "    </tr>\n",
              "    <tr>\n",
              "      <th>1.75</th>\n",
              "      <td>1962</td>\n",
              "      <td>6032</td>\n",
              "    </tr>\n",
              "    <tr>\n",
              "      <th>2.00</th>\n",
              "      <td>13075</td>\n",
              "      <td>64277</td>\n",
              "    </tr>\n",
              "    <tr>\n",
              "      <th>2.25</th>\n",
              "      <td>16511</td>\n",
              "      <td>28184</td>\n",
              "    </tr>\n",
              "    <tr>\n",
              "      <th>2.50</th>\n",
              "      <td>123867</td>\n",
              "      <td>255534</td>\n",
              "    </tr>\n",
              "    <tr>\n",
              "      <th>2.75</th>\n",
              "      <td>281946</td>\n",
              "      <td>521276</td>\n",
              "    </tr>\n",
              "    <tr>\n",
              "      <th>3.00</th>\n",
              "      <td>307245</td>\n",
              "      <td>685953</td>\n",
              "    </tr>\n",
              "    <tr>\n",
              "      <th>3.25</th>\n",
              "      <td>360628</td>\n",
              "      <td>609993</td>\n",
              "    </tr>\n",
              "    <tr>\n",
              "      <th>3.50</th>\n",
              "      <td>438361</td>\n",
              "      <td>788997</td>\n",
              "    </tr>\n",
              "    <tr>\n",
              "      <th>3.75</th>\n",
              "      <td>232337</td>\n",
              "      <td>422674</td>\n",
              "    </tr>\n",
              "    <tr>\n",
              "      <th>4.00</th>\n",
              "      <td>78166</td>\n",
              "      <td>197071</td>\n",
              "    </tr>\n",
              "    <tr>\n",
              "      <th>5.00</th>\n",
              "      <td>151</td>\n",
              "      <td>4013</td>\n",
              "    </tr>\n",
              "  </tbody>\n",
              "</table>\n",
              "</div>"
            ],
            "text/plain": [
              "           REF  Review Date\n",
              "Rating                     \n",
              "1.00       576         8028\n",
              "1.50      4624        20092\n",
              "1.75      1962         6032\n",
              "2.00     13075        64277\n",
              "2.25     16511        28184\n",
              "2.50    123867       255534\n",
              "2.75    281946       521276\n",
              "3.00    307245       685953\n",
              "3.25    360628       609993\n",
              "3.50    438361       788997\n",
              "3.75    232337       422674\n",
              "4.00     78166       197071\n",
              "5.00       151         4013"
            ]
          },
          "metadata": {
            "tags": []
          },
          "execution_count": 30
        }
      ]
    },
    {
      "cell_type": "code",
      "metadata": {
        "id": "QLdTOmjcIIub",
        "colab_type": "code",
        "colab": {}
      },
      "source": [
        "# google Gpread\n"
      ],
      "execution_count": 0,
      "outputs": []
    },
    {
      "cell_type": "code",
      "metadata": {
        "id": "GKRvO7p-RyGK",
        "colab_type": "code",
        "colab": {}
      },
      "source": [
        "def check_exists(path):\n",
        "# open the file. If exist return True\n",
        "# Your code here\n",
        "  try:\n",
        "    sh=gc.open(path)\n",
        "    return True\n",
        "  except:\n",
        "    return False"
      ],
      "execution_count": 0,
      "outputs": []
    },
    {
      "cell_type": "code",
      "metadata": {
        "id": "hzwQC7sPR1KS",
        "colab_type": "code",
        "colab": {}
      },
      "source": [
        "def create_new_worksheet(path='worksheet', sheets={\"sheet1\":\"\"}):\n",
        "    if check_exists(path):\n",
        "        print('create_new_worksheet(): File exists')\n",
        "        return gc.open(path)\n",
        "    sh = gc.create(path)\n",
        "    for name, cols in sheets.items():\n",
        "        sh.add_worksheet(title=name, rows=\"100\", cols=\"100\")\n",
        "        sh.values_update(\n",
        "            name + '!A1',\n",
        "            params={'valueInputOption': 'RAW'},\n",
        "            body={'values': [cols]}\n",
        "        )      \n",
        "#     sh.del_worksheet(sh.sheet1)\n",
        "#     return sh\n"
      ],
      "execution_count": 0,
      "outputs": []
    },
    {
      "cell_type": "code",
      "metadata": {
        "id": "VDXLtRDGR8wn",
        "colab_type": "code",
        "colab": {}
      },
      "source": [
        "sheets = {\n",
        "    # Sheet name: column in this sheet\n",
        "    'Chocolate_bar': choco_bar.columns.values.tolist()\n",
        "}"
      ],
      "execution_count": 0,
      "outputs": []
    },
    {
      "cell_type": "code",
      "metadata": {
        "id": "lTsREQ2USV8O",
        "colab_type": "code",
        "colab": {
          "base_uri": "https://localhost:8080/",
          "height": 34
        },
        "outputId": "2595e01c-4ebe-43d1-db9c-0e404a423e88"
      },
      "source": [
        "choco = create_new_worksheet('Chocolate_bar',sheets)"
      ],
      "execution_count": 75,
      "outputs": [
        {
          "output_type": "stream",
          "text": [
            "create_new_worksheet(): File exists\n"
          ],
          "name": "stdout"
        }
      ]
    },
    {
      "cell_type": "code",
      "metadata": {
        "id": "GHVdO3JWSixM",
        "colab_type": "code",
        "colab": {
          "base_uri": "https://localhost:8080/",
          "height": 102
        },
        "outputId": "6884cc5a-c2c7-45e5-d80c-4bf0dffbb904"
      },
      "source": [
        "# Push dataframe to google spreadsheet\n",
        "choco.values_update(\n",
        "     'Chocolate_bar!A2',\n",
        "    params={'valueInputOption': 'RAW'},\n",
        "    body={'values':choco_bar.fillna('').values.tolist()}\n",
        "    \n",
        "    \n",
        "    \n",
        "    \n",
        ")"
      ],
      "execution_count": 76,
      "outputs": [
        {
          "output_type": "execute_result",
          "data": {
            "text/plain": [
              "{'spreadsheetId': '1V9FJmPmw9beP3Djjvpx6hcPF8Lz6BCye6PlCeruPPIc',\n",
              " 'updatedCells': 16155,\n",
              " 'updatedColumns': 9,\n",
              " 'updatedRange': 'Chocolate_bar!A2:I1796',\n",
              " 'updatedRows': 1795}"
            ]
          },
          "metadata": {
            "tags": []
          },
          "execution_count": 76
        }
      ]
    },
    {
      "cell_type": "code",
      "metadata": {
        "id": "5pRpgtcpTWl6",
        "colab_type": "code",
        "colab": {}
      },
      "source": [
        "#  Get google spreadsheet data as dataframe\n",
        "df = pd.DataFrame(choco.sheet1.get_all_records()) "
      ],
      "execution_count": 0,
      "outputs": []
    },
    {
      "cell_type": "code",
      "metadata": {
        "id": "eMxvLL5JTf2t",
        "colab_type": "code",
        "colab": {
          "base_uri": "https://localhost:8080/",
          "height": 204
        },
        "outputId": "e01e57ea-7294-4749-a852-b80d21d15f88"
      },
      "source": [
        "df.head()"
      ],
      "execution_count": 79,
      "outputs": [
        {
          "output_type": "execute_result",
          "data": {
            "text/html": [
              "<div>\n",
              "<style scoped>\n",
              "    .dataframe tbody tr th:only-of-type {\n",
              "        vertical-align: middle;\n",
              "    }\n",
              "\n",
              "    .dataframe tbody tr th {\n",
              "        vertical-align: top;\n",
              "    }\n",
              "\n",
              "    .dataframe thead th {\n",
              "        text-align: right;\n",
              "    }\n",
              "</style>\n",
              "<table border=\"1\" class=\"dataframe\">\n",
              "  <thead>\n",
              "    <tr style=\"text-align: right;\">\n",
              "      <th></th>\n",
              "      <th>Bean Type</th>\n",
              "      <th>Broad Bean Origin</th>\n",
              "      <th>Cocoa Percent</th>\n",
              "      <th>Company Location</th>\n",
              "      <th>Company(Maker-if known)</th>\n",
              "      <th>REF</th>\n",
              "      <th>Rating</th>\n",
              "      <th>Review Date</th>\n",
              "      <th>Specific Bean Origin or Bar Name</th>\n",
              "    </tr>\n",
              "  </thead>\n",
              "  <tbody>\n",
              "    <tr>\n",
              "      <th>0</th>\n",
              "      <td></td>\n",
              "      <td>Sao Tome</td>\n",
              "      <td>63%</td>\n",
              "      <td>France</td>\n",
              "      <td>A. Morin</td>\n",
              "      <td>1876</td>\n",
              "      <td>3.75</td>\n",
              "      <td>2016</td>\n",
              "      <td>Agua Grande</td>\n",
              "    </tr>\n",
              "    <tr>\n",
              "      <th>1</th>\n",
              "      <td></td>\n",
              "      <td>Togo</td>\n",
              "      <td>70%</td>\n",
              "      <td>France</td>\n",
              "      <td>A. Morin</td>\n",
              "      <td>1676</td>\n",
              "      <td>2.75</td>\n",
              "      <td>2015</td>\n",
              "      <td>Kpime</td>\n",
              "    </tr>\n",
              "    <tr>\n",
              "      <th>2</th>\n",
              "      <td></td>\n",
              "      <td>Togo</td>\n",
              "      <td>70%</td>\n",
              "      <td>France</td>\n",
              "      <td>A. Morin</td>\n",
              "      <td>1676</td>\n",
              "      <td>3.00</td>\n",
              "      <td>2015</td>\n",
              "      <td>Atsane</td>\n",
              "    </tr>\n",
              "    <tr>\n",
              "      <th>3</th>\n",
              "      <td></td>\n",
              "      <td>Togo</td>\n",
              "      <td>70%</td>\n",
              "      <td>France</td>\n",
              "      <td>A. Morin</td>\n",
              "      <td>1680</td>\n",
              "      <td>3.50</td>\n",
              "      <td>2015</td>\n",
              "      <td>Akata</td>\n",
              "    </tr>\n",
              "    <tr>\n",
              "      <th>4</th>\n",
              "      <td></td>\n",
              "      <td>Peru</td>\n",
              "      <td>70%</td>\n",
              "      <td>France</td>\n",
              "      <td>A. Morin</td>\n",
              "      <td>1704</td>\n",
              "      <td>3.50</td>\n",
              "      <td>2015</td>\n",
              "      <td>Quilla</td>\n",
              "    </tr>\n",
              "  </tbody>\n",
              "</table>\n",
              "</div>"
            ],
            "text/plain": [
              "  Bean Type Broad Bean Origin  ... Review Date Specific Bean Origin or Bar Name\n",
              "0                    Sao Tome  ...        2016                      Agua Grande\n",
              "1                        Togo  ...        2015                            Kpime\n",
              "2                        Togo  ...        2015                           Atsane\n",
              "3                        Togo  ...        2015                            Akata\n",
              "4                        Peru  ...        2015                           Quilla\n",
              "\n",
              "[5 rows x 9 columns]"
            ]
          },
          "metadata": {
            "tags": []
          },
          "execution_count": 79
        }
      ]
    }
  ]
}