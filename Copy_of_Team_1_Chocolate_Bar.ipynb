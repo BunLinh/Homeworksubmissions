{
  "nbformat": 4,
  "nbformat_minor": 0,
  "metadata": {
    "kernelspec": {
      "display_name": "Python 3",
      "language": "python",
      "name": "python3"
    },
    "language_info": {
      "codemirror_mode": {
        "name": "ipython",
        "version": 3
      },
      "file_extension": ".py",
      "mimetype": "text/x-python",
      "name": "python",
      "nbconvert_exporter": "python",
      "pygments_lexer": "ipython3",
      "version": "3.7.3"
    },
    "colab": {
      "name": "Copy of Team 1 - Chocolate Bar.ipynb",
      "version": "0.3.2",
      "provenance": [],
      "collapsed_sections": []
    }
  },
  "cells": [
    {
      "cell_type": "markdown",
      "metadata": {
        "id": "0dYCvb186Z51",
        "colab_type": "text"
      },
      "source": [
        "# Team 1 - Chocolate Bar\n",
        "\n",
        "![](https://img.newatlas.com/cocoa-tree-domestication-chocolate-1.jpg?auto=format%2Ccompress&ch=Width%2CDPR&fit=crop&h=347&q=60&rect=0%2C18%2C1620%2C911&w=616&s=2c0f902d21b734d77c99fd13171fb979)\n",
        "\n",
        "_For more information about the dataset, read [here](https://www.kaggle.com/rtatman/chocolate-bar-ratings)._\n",
        "\n",
        "## Your tasks\n",
        "- Name your team!\n",
        "- Read the source and do some quick research to understand more about the dataset and its topic\n",
        "- Clean the data\n",
        "- Perform Exploratory Data Analysis on the dataset\n",
        "- Analyze the data more deeply and extract insights\n",
        "- Visualize your analysis on Google Data Studio\n",
        "- Present your works in front of the class and guests next Monday\n",
        "\n",
        "## Submission Guide\n",
        "- Create a Github repository for your project\n",
        "- Upload the dataset (.csv file) and the Jupyter Notebook to your Github repository. In the Jupyter Notebook, **include the link to your Google Data Studio report**.\n",
        "- Submit your works through this [Google Form](https://forms.gle/oxtXpGfS8JapVj3V8).\n",
        "\n",
        "## Tips for Data Cleaning, Manipulation & Visualization\n",
        "- Here are some of our tips for Data Cleaning, Manipulation & Visualization. [Click here](https://hackmd.io/cBNV7E6TT2WMliQC-GTw1A)\n",
        "\n",
        "_____________________________\n",
        "\n",
        "## Some Hints for This Dataset:\n",
        "- There are lots of poorly labeled data in `Broad Bean Origin` column.\n",
        "- There are some rows in `Broad Bean Origin` with multiple values, those values will create errors in our data. \n",
        "- How can we get rid of the `%` sign in `Cocoa Percent` column?\n",
        "- And more..."
      ]
    },
    {
      "cell_type": "code",
      "metadata": {
        "id": "Q1KHJ9dV6Z52",
        "colab_type": "code",
        "outputId": "42ef7911-d81b-47db-bd44-0fbf515213a7",
        "colab": {
          "base_uri": "https://localhost:8080/",
          "height": 221
        }
      },
      "source": [
        "# Start your codes here!\n",
        "!pip install --upgrade -q gspread\n",
        "!pip install gspread oauth2client\n",
        "# gspread"
      ],
      "execution_count": 90,
      "outputs": [
        {
          "output_type": "stream",
          "text": [
            "Requirement already satisfied: gspread in /usr/local/lib/python3.6/dist-packages (3.1.0)\n",
            "Requirement already satisfied: oauth2client in /usr/local/lib/python3.6/dist-packages (4.1.3)\n",
            "Requirement already satisfied: requests>=2.2.1 in /usr/local/lib/python3.6/dist-packages (from gspread) (2.21.0)\n",
            "Requirement already satisfied: rsa>=3.1.4 in /usr/local/lib/python3.6/dist-packages (from oauth2client) (4.0)\n",
            "Requirement already satisfied: six>=1.6.1 in /usr/local/lib/python3.6/dist-packages (from oauth2client) (1.12.0)\n",
            "Requirement already satisfied: httplib2>=0.9.1 in /usr/local/lib/python3.6/dist-packages (from oauth2client) (0.11.3)\n",
            "Requirement already satisfied: pyasn1-modules>=0.0.5 in /usr/local/lib/python3.6/dist-packages (from oauth2client) (0.2.6)\n",
            "Requirement already satisfied: pyasn1>=0.1.7 in /usr/local/lib/python3.6/dist-packages (from oauth2client) (0.4.6)\n",
            "Requirement already satisfied: chardet<3.1.0,>=3.0.2 in /usr/local/lib/python3.6/dist-packages (from requests>=2.2.1->gspread) (3.0.4)\n",
            "Requirement already satisfied: idna<2.9,>=2.5 in /usr/local/lib/python3.6/dist-packages (from requests>=2.2.1->gspread) (2.8)\n",
            "Requirement already satisfied: urllib3<1.25,>=1.21.1 in /usr/local/lib/python3.6/dist-packages (from requests>=2.2.1->gspread) (1.24.3)\n",
            "Requirement already satisfied: certifi>=2017.4.17 in /usr/local/lib/python3.6/dist-packages (from requests>=2.2.1->gspread) (2019.6.16)\n"
          ],
          "name": "stdout"
        }
      ]
    },
    {
      "cell_type": "code",
      "metadata": {
        "id": "kfNC7Xch9m6N",
        "colab_type": "code",
        "colab": {}
      },
      "source": [
        "from google.colab import auth\n",
        "auth.authenticate_user()\n",
        "\n",
        "import gspread \n",
        "from oauth2client.client import GoogleCredentials\n",
        "from gspread_dataframe import get_as_dataframe, set_with_dataframe \n"
      ],
      "execution_count": 0,
      "outputs": []
    },
    {
      "cell_type": "code",
      "metadata": {
        "id": "L15YYwma97mu",
        "colab_type": "code",
        "colab": {}
      },
      "source": [
        "gc = gspread.authorize(GoogleCredentials.get_application_default()) #grant access to google drive \n"
      ],
      "execution_count": 0,
      "outputs": []
    },
    {
      "cell_type": "code",
      "metadata": {
        "id": "NFlwmDxz74yE",
        "colab_type": "code",
        "colab": {}
      },
      "source": [
        "import numpy as np\n",
        "import pandas as pd\n",
        "import seaborn as sns\n",
        "import matplotlib.pyplot as plt\n",
        "%matplotlib inline\n",
        "import warnings\n",
        "warnings.filterwarnings('ignore')"
      ],
      "execution_count": 0,
      "outputs": []
    },
    {
      "cell_type": "code",
      "metadata": {
        "id": "-yYZ8iMRPGLH",
        "colab_type": "code",
        "outputId": "019969af-6e48-4086-c972-57c163634e1e",
        "colab": {
          "base_uri": "https://localhost:8080/",
          "height": 122
        }
      },
      "source": [
        "from google.colab import drive\n",
        "drive.mount('/content/gdrive')"
      ],
      "execution_count": 6,
      "outputs": [
        {
          "output_type": "stream",
          "text": [
            "Go to this URL in a browser: https://accounts.google.com/o/oauth2/auth?client_id=947318989803-6bn6qk8qdgf4n4g3pfee6491hc0brc4i.apps.googleusercontent.com&redirect_uri=urn%3Aietf%3Awg%3Aoauth%3A2.0%3Aoob&scope=email%20https%3A%2F%2Fwww.googleapis.com%2Fauth%2Fdocs.test%20https%3A%2F%2Fwww.googleapis.com%2Fauth%2Fdrive%20https%3A%2F%2Fwww.googleapis.com%2Fauth%2Fdrive.photos.readonly%20https%3A%2F%2Fwww.googleapis.com%2Fauth%2Fpeopleapi.readonly&response_type=code\n",
            "\n",
            "Enter your authorization code:\n",
            "··········\n",
            "Mounted at /content/gdrive\n"
          ],
          "name": "stdout"
        }
      ]
    },
    {
      "cell_type": "code",
      "metadata": {
        "id": "rVJO_zC976pN",
        "colab_type": "code",
        "colab": {}
      },
      "source": [
        "link = 'gdrive/My Drive/chocolate.csv'\n",
        "choco_bar1= pd.read_csv(link)\n",
        "choco_bar=choco_bar1"
      ],
      "execution_count": 0,
      "outputs": []
    },
    {
      "cell_type": "code",
      "metadata": {
        "id": "HWBY5vLU79_o",
        "colab_type": "code",
        "outputId": "d06b2a89-4950-4cf3-e8e2-70514d6de20f",
        "colab": {
          "base_uri": "https://localhost:8080/",
          "height": 514
        }
      },
      "source": [
        "choco_bar.head(15)\n"
      ],
      "execution_count": 8,
      "outputs": [
        {
          "output_type": "execute_result",
          "data": {
            "text/html": [
              "<div>\n",
              "<style scoped>\n",
              "    .dataframe tbody tr th:only-of-type {\n",
              "        vertical-align: middle;\n",
              "    }\n",
              "\n",
              "    .dataframe tbody tr th {\n",
              "        vertical-align: top;\n",
              "    }\n",
              "\n",
              "    .dataframe thead th {\n",
              "        text-align: right;\n",
              "    }\n",
              "</style>\n",
              "<table border=\"1\" class=\"dataframe\">\n",
              "  <thead>\n",
              "    <tr style=\"text-align: right;\">\n",
              "      <th></th>\n",
              "      <th>Company \n",
              "(Maker-if known)</th>\n",
              "      <th>Specific Bean Origin\n",
              "or Bar Name</th>\n",
              "      <th>REF</th>\n",
              "      <th>Review\n",
              "Date</th>\n",
              "      <th>Cocoa\n",
              "Percent</th>\n",
              "      <th>Company\n",
              "Location</th>\n",
              "      <th>Rating</th>\n",
              "      <th>Bean\n",
              "Type</th>\n",
              "      <th>Broad Bean\n",
              "Origin</th>\n",
              "    </tr>\n",
              "  </thead>\n",
              "  <tbody>\n",
              "    <tr>\n",
              "      <th>0</th>\n",
              "      <td>A. Morin</td>\n",
              "      <td>Agua Grande</td>\n",
              "      <td>1876</td>\n",
              "      <td>2016</td>\n",
              "      <td>63%</td>\n",
              "      <td>France</td>\n",
              "      <td>3.75</td>\n",
              "      <td></td>\n",
              "      <td>Sao Tome</td>\n",
              "    </tr>\n",
              "    <tr>\n",
              "      <th>1</th>\n",
              "      <td>A. Morin</td>\n",
              "      <td>Kpime</td>\n",
              "      <td>1676</td>\n",
              "      <td>2015</td>\n",
              "      <td>70%</td>\n",
              "      <td>France</td>\n",
              "      <td>2.75</td>\n",
              "      <td></td>\n",
              "      <td>Togo</td>\n",
              "    </tr>\n",
              "    <tr>\n",
              "      <th>2</th>\n",
              "      <td>A. Morin</td>\n",
              "      <td>Atsane</td>\n",
              "      <td>1676</td>\n",
              "      <td>2015</td>\n",
              "      <td>70%</td>\n",
              "      <td>France</td>\n",
              "      <td>3.00</td>\n",
              "      <td></td>\n",
              "      <td>Togo</td>\n",
              "    </tr>\n",
              "    <tr>\n",
              "      <th>3</th>\n",
              "      <td>A. Morin</td>\n",
              "      <td>Akata</td>\n",
              "      <td>1680</td>\n",
              "      <td>2015</td>\n",
              "      <td>70%</td>\n",
              "      <td>France</td>\n",
              "      <td>3.50</td>\n",
              "      <td></td>\n",
              "      <td>Togo</td>\n",
              "    </tr>\n",
              "    <tr>\n",
              "      <th>4</th>\n",
              "      <td>A. Morin</td>\n",
              "      <td>Quilla</td>\n",
              "      <td>1704</td>\n",
              "      <td>2015</td>\n",
              "      <td>70%</td>\n",
              "      <td>France</td>\n",
              "      <td>3.50</td>\n",
              "      <td></td>\n",
              "      <td>Peru</td>\n",
              "    </tr>\n",
              "    <tr>\n",
              "      <th>5</th>\n",
              "      <td>A. Morin</td>\n",
              "      <td>Carenero</td>\n",
              "      <td>1315</td>\n",
              "      <td>2014</td>\n",
              "      <td>70%</td>\n",
              "      <td>France</td>\n",
              "      <td>2.75</td>\n",
              "      <td>Criollo</td>\n",
              "      <td>Venezuela</td>\n",
              "    </tr>\n",
              "    <tr>\n",
              "      <th>6</th>\n",
              "      <td>A. Morin</td>\n",
              "      <td>Cuba</td>\n",
              "      <td>1315</td>\n",
              "      <td>2014</td>\n",
              "      <td>70%</td>\n",
              "      <td>France</td>\n",
              "      <td>3.50</td>\n",
              "      <td></td>\n",
              "      <td>Cuba</td>\n",
              "    </tr>\n",
              "    <tr>\n",
              "      <th>7</th>\n",
              "      <td>A. Morin</td>\n",
              "      <td>Sur del Lago</td>\n",
              "      <td>1315</td>\n",
              "      <td>2014</td>\n",
              "      <td>70%</td>\n",
              "      <td>France</td>\n",
              "      <td>3.50</td>\n",
              "      <td>Criollo</td>\n",
              "      <td>Venezuela</td>\n",
              "    </tr>\n",
              "    <tr>\n",
              "      <th>8</th>\n",
              "      <td>A. Morin</td>\n",
              "      <td>Puerto Cabello</td>\n",
              "      <td>1319</td>\n",
              "      <td>2014</td>\n",
              "      <td>70%</td>\n",
              "      <td>France</td>\n",
              "      <td>3.75</td>\n",
              "      <td>Criollo</td>\n",
              "      <td>Venezuela</td>\n",
              "    </tr>\n",
              "    <tr>\n",
              "      <th>9</th>\n",
              "      <td>A. Morin</td>\n",
              "      <td>Pablino</td>\n",
              "      <td>1319</td>\n",
              "      <td>2014</td>\n",
              "      <td>70%</td>\n",
              "      <td>France</td>\n",
              "      <td>4.00</td>\n",
              "      <td></td>\n",
              "      <td>Peru</td>\n",
              "    </tr>\n",
              "    <tr>\n",
              "      <th>10</th>\n",
              "      <td>A. Morin</td>\n",
              "      <td>Panama</td>\n",
              "      <td>1011</td>\n",
              "      <td>2013</td>\n",
              "      <td>70%</td>\n",
              "      <td>France</td>\n",
              "      <td>2.75</td>\n",
              "      <td></td>\n",
              "      <td>Panama</td>\n",
              "    </tr>\n",
              "    <tr>\n",
              "      <th>11</th>\n",
              "      <td>A. Morin</td>\n",
              "      <td>Madagascar</td>\n",
              "      <td>1011</td>\n",
              "      <td>2013</td>\n",
              "      <td>70%</td>\n",
              "      <td>France</td>\n",
              "      <td>3.00</td>\n",
              "      <td>Criollo</td>\n",
              "      <td>Madagascar</td>\n",
              "    </tr>\n",
              "    <tr>\n",
              "      <th>12</th>\n",
              "      <td>A. Morin</td>\n",
              "      <td>Brazil</td>\n",
              "      <td>1011</td>\n",
              "      <td>2013</td>\n",
              "      <td>70%</td>\n",
              "      <td>France</td>\n",
              "      <td>3.25</td>\n",
              "      <td></td>\n",
              "      <td>Brazil</td>\n",
              "    </tr>\n",
              "    <tr>\n",
              "      <th>13</th>\n",
              "      <td>A. Morin</td>\n",
              "      <td>Equateur</td>\n",
              "      <td>1011</td>\n",
              "      <td>2013</td>\n",
              "      <td>70%</td>\n",
              "      <td>France</td>\n",
              "      <td>3.75</td>\n",
              "      <td></td>\n",
              "      <td>Ecuador</td>\n",
              "    </tr>\n",
              "    <tr>\n",
              "      <th>14</th>\n",
              "      <td>A. Morin</td>\n",
              "      <td>Colombie</td>\n",
              "      <td>1015</td>\n",
              "      <td>2013</td>\n",
              "      <td>70%</td>\n",
              "      <td>France</td>\n",
              "      <td>2.75</td>\n",
              "      <td></td>\n",
              "      <td>Colombia</td>\n",
              "    </tr>\n",
              "  </tbody>\n",
              "</table>\n",
              "</div>"
            ],
            "text/plain": [
              "   Company \\n(Maker-if known)  ... Broad Bean\\nOrigin\n",
              "0                    A. Morin  ...           Sao Tome\n",
              "1                    A. Morin  ...               Togo\n",
              "2                    A. Morin  ...               Togo\n",
              "3                    A. Morin  ...               Togo\n",
              "4                    A. Morin  ...               Peru\n",
              "5                    A. Morin  ...          Venezuela\n",
              "6                    A. Morin  ...               Cuba\n",
              "7                    A. Morin  ...          Venezuela\n",
              "8                    A. Morin  ...          Venezuela\n",
              "9                    A. Morin  ...               Peru\n",
              "10                   A. Morin  ...             Panama\n",
              "11                   A. Morin  ...         Madagascar\n",
              "12                   A. Morin  ...             Brazil\n",
              "13                   A. Morin  ...            Ecuador\n",
              "14                   A. Morin  ...           Colombia\n",
              "\n",
              "[15 rows x 9 columns]"
            ]
          },
          "metadata": {
            "tags": []
          },
          "execution_count": 8
        }
      ]
    },
    {
      "cell_type": "code",
      "metadata": {
        "id": "nzgXsdx-SpMB",
        "colab_type": "code",
        "outputId": "d471be6a-a194-4bcf-efbc-2ac9c19b297e",
        "colab": {
          "base_uri": "https://localhost:8080/",
          "height": 204
        }
      },
      "source": [
        "choco_bar.sample(5)"
      ],
      "execution_count": 10,
      "outputs": [
        {
          "output_type": "execute_result",
          "data": {
            "text/html": [
              "<div>\n",
              "<style scoped>\n",
              "    .dataframe tbody tr th:only-of-type {\n",
              "        vertical-align: middle;\n",
              "    }\n",
              "\n",
              "    .dataframe tbody tr th {\n",
              "        vertical-align: top;\n",
              "    }\n",
              "\n",
              "    .dataframe thead th {\n",
              "        text-align: right;\n",
              "    }\n",
              "</style>\n",
              "<table border=\"1\" class=\"dataframe\">\n",
              "  <thead>\n",
              "    <tr style=\"text-align: right;\">\n",
              "      <th></th>\n",
              "      <th>Company \n",
              "(Maker-if known)</th>\n",
              "      <th>Specific Bean Origin\n",
              "or Bar Name</th>\n",
              "      <th>REF</th>\n",
              "      <th>Review\n",
              "Date</th>\n",
              "      <th>Cocoa\n",
              "Percent</th>\n",
              "      <th>Company\n",
              "Location</th>\n",
              "      <th>Rating</th>\n",
              "      <th>Bean\n",
              "Type</th>\n",
              "      <th>Broad Bean\n",
              "Origin</th>\n",
              "    </tr>\n",
              "  </thead>\n",
              "  <tbody>\n",
              "    <tr>\n",
              "      <th>1235</th>\n",
              "      <td>Original Beans (Felchlin)</td>\n",
              "      <td>Alto Beni, Wild Harvest, Itenez R., 60hr c.</td>\n",
              "      <td>341</td>\n",
              "      <td>2009</td>\n",
              "      <td>68%</td>\n",
              "      <td>Switzerland</td>\n",
              "      <td>3.25</td>\n",
              "      <td></td>\n",
              "      <td>Bolivia</td>\n",
              "    </tr>\n",
              "    <tr>\n",
              "      <th>591</th>\n",
              "      <td>Duffy's</td>\n",
              "      <td>Corazon del Ecuador, Calceta beans</td>\n",
              "      <td>516</td>\n",
              "      <td>2010</td>\n",
              "      <td>72%</td>\n",
              "      <td>U.K.</td>\n",
              "      <td>3.75</td>\n",
              "      <td></td>\n",
              "      <td>Ecuador</td>\n",
              "    </tr>\n",
              "    <tr>\n",
              "      <th>1218</th>\n",
              "      <td>Olivia</td>\n",
              "      <td>Carribean</td>\n",
              "      <td>688</td>\n",
              "      <td>2011</td>\n",
              "      <td>76%</td>\n",
              "      <td>Canada</td>\n",
              "      <td>2.75</td>\n",
              "      <td></td>\n",
              "      <td>Carribean</td>\n",
              "    </tr>\n",
              "    <tr>\n",
              "      <th>1332</th>\n",
              "      <td>Pralus</td>\n",
              "      <td>Vanuatu</td>\n",
              "      <td>40</td>\n",
              "      <td>2006</td>\n",
              "      <td>75%</td>\n",
              "      <td>France</td>\n",
              "      <td>3.00</td>\n",
              "      <td>Trinitario</td>\n",
              "      <td>Vanuatu</td>\n",
              "    </tr>\n",
              "    <tr>\n",
              "      <th>62</th>\n",
              "      <td>Amano</td>\n",
              "      <td>Ocumare</td>\n",
              "      <td>175</td>\n",
              "      <td>2007</td>\n",
              "      <td>70%</td>\n",
              "      <td>U.S.A.</td>\n",
              "      <td>3.75</td>\n",
              "      <td>Criollo</td>\n",
              "      <td>Venezuela</td>\n",
              "    </tr>\n",
              "  </tbody>\n",
              "</table>\n",
              "</div>"
            ],
            "text/plain": [
              "     Company \\n(Maker-if known)  ... Broad Bean\\nOrigin\n",
              "1235  Original Beans (Felchlin)  ...            Bolivia\n",
              "591                     Duffy's  ...            Ecuador\n",
              "1218                     Olivia  ...          Carribean\n",
              "1332                     Pralus  ...            Vanuatu\n",
              "62                        Amano  ...          Venezuela\n",
              "\n",
              "[5 rows x 9 columns]"
            ]
          },
          "metadata": {
            "tags": []
          },
          "execution_count": 10
        }
      ]
    },
    {
      "cell_type": "code",
      "metadata": {
        "id": "30WqFOY2QKQV",
        "colab_type": "code",
        "outputId": "46633365-bf07-4d2c-dd30-0be2ddbaed73",
        "colab": {
          "base_uri": "https://localhost:8080/",
          "height": 374
        }
      },
      "source": [
        "choco_bar.info()"
      ],
      "execution_count": 9,
      "outputs": [
        {
          "output_type": "stream",
          "text": [
            "<class 'pandas.core.frame.DataFrame'>\n",
            "RangeIndex: 1795 entries, 0 to 1794\n",
            "Data columns (total 9 columns):\n",
            "Company \n",
            "(Maker-if known)           1795 non-null object\n",
            "Specific Bean Origin\n",
            "or Bar Name    1795 non-null object\n",
            "REF                                 1795 non-null int64\n",
            "Review\n",
            "Date                         1795 non-null int64\n",
            "Cocoa\n",
            "Percent                       1795 non-null object\n",
            "Company\n",
            "Location                    1795 non-null object\n",
            "Rating                              1795 non-null float64\n",
            "Bean\n",
            "Type                           1794 non-null object\n",
            "Broad Bean\n",
            "Origin                   1794 non-null object\n",
            "dtypes: float64(1), int64(2), object(6)\n",
            "memory usage: 126.3+ KB\n"
          ],
          "name": "stdout"
        }
      ]
    },
    {
      "cell_type": "code",
      "metadata": {
        "id": "LGdVLc-SSMIY",
        "colab_type": "code",
        "outputId": "fe4976ea-896d-4328-d950-85467323df90",
        "colab": {
          "base_uri": "https://localhost:8080/",
          "height": 187
        }
      },
      "source": [
        "choco_bar.isnull().sum()"
      ],
      "execution_count": 40,
      "outputs": [
        {
          "output_type": "execute_result",
          "data": {
            "text/plain": [
              "Company             0\n",
              "Origin Bar Name     0\n",
              "REF                 0\n",
              "Review Date         0\n",
              "Cocoa Percent       0\n",
              "Company Location    0\n",
              "Rating              0\n",
              "Bean Type           0\n",
              "Bean Origin         1\n",
              "dtype: int64"
            ]
          },
          "metadata": {
            "tags": []
          },
          "execution_count": 40
        }
      ]
    },
    {
      "cell_type": "code",
      "metadata": {
        "id": "3FnNEvW8UnQx",
        "colab_type": "code",
        "outputId": "3385a76e-9e7d-4f39-d5b7-99c231ca2e29",
        "colab": {
          "base_uri": "https://localhost:8080/",
          "height": 85
        }
      },
      "source": [
        "choco_bar.columns"
      ],
      "execution_count": 0,
      "outputs": [
        {
          "output_type": "execute_result",
          "data": {
            "text/plain": [
              "Index(['Company \\n(Maker-if known)', 'Specific Bean Origin\\nor Bar Name',\n",
              "       'REF', 'Review\\nDate', 'Cocoa\\nPercent', 'Company\\nLocation', 'Rating',\n",
              "       'Bean\\nType', 'Broad Bean\\nOrigin'],\n",
              "      dtype='object')"
            ]
          },
          "metadata": {
            "tags": []
          },
          "execution_count": 32
        }
      ]
    },
    {
      "cell_type": "code",
      "metadata": {
        "id": "6piZ_eonUM7E",
        "colab_type": "code",
        "colab": {}
      },
      "source": [
        "# choco_bar.columns= ['Company' ,'Origin Bar Name','REF','Review Date','Cocoa Percent','Company Location','Rating','Bean Type','Bean Origin']"
      ],
      "execution_count": 0,
      "outputs": []
    },
    {
      "cell_type": "code",
      "metadata": {
        "id": "htruD_W00Z45",
        "colab_type": "code",
        "colab": {}
      },
      "source": [
        "old_columns= choco_bar.columns\n",
        "# old_columns\n",
        "new_columns= ['Company' ,'Origin Bar Name','REF','Review Date','Cocoa Percent','Company Location','Rating','Bean Type','Bean Origin']\n",
        "choco_bar.rename(columns=dict(zip(old_columns, new_columns)), inplace=True)"
      ],
      "execution_count": 0,
      "outputs": []
    },
    {
      "cell_type": "code",
      "metadata": {
        "id": "VBmmgc_w0942",
        "colab_type": "code",
        "outputId": "f3b19b2d-b857-4ab0-da79-0a2637cdc38a",
        "colab": {
          "base_uri": "https://localhost:8080/",
          "height": 255
        }
      },
      "source": [
        "choco_bar.info()"
      ],
      "execution_count": 34,
      "outputs": [
        {
          "output_type": "stream",
          "text": [
            "<class 'pandas.core.frame.DataFrame'>\n",
            "RangeIndex: 1795 entries, 0 to 1794\n",
            "Data columns (total 9 columns):\n",
            "Company             1795 non-null object\n",
            "Origin Bar Name     1795 non-null object\n",
            "REF                 1795 non-null int64\n",
            "Review Date         1795 non-null int64\n",
            "Cocoa Percent       1795 non-null object\n",
            "Company Location    1795 non-null object\n",
            "Rating              1795 non-null float64\n",
            "Bean Type           1794 non-null object\n",
            "Bean Origin         1794 non-null object\n",
            "dtypes: float64(1), int64(2), object(6)\n",
            "memory usage: 126.3+ KB\n"
          ],
          "name": "stdout"
        }
      ]
    },
    {
      "cell_type": "code",
      "metadata": {
        "id": "AyEI6A-c7I6v",
        "colab_type": "code",
        "outputId": "076fa1c1-7720-47f7-9752-6a4e1f9e60ae",
        "colab": {
          "base_uri": "https://localhost:8080/",
          "height": 297
        }
      },
      "source": [
        "#describe not description \n",
        "choco_bar.describe()"
      ],
      "execution_count": 19,
      "outputs": [
        {
          "output_type": "execute_result",
          "data": {
            "text/html": [
              "<div>\n",
              "<style scoped>\n",
              "    .dataframe tbody tr th:only-of-type {\n",
              "        vertical-align: middle;\n",
              "    }\n",
              "\n",
              "    .dataframe tbody tr th {\n",
              "        vertical-align: top;\n",
              "    }\n",
              "\n",
              "    .dataframe thead th {\n",
              "        text-align: right;\n",
              "    }\n",
              "</style>\n",
              "<table border=\"1\" class=\"dataframe\">\n",
              "  <thead>\n",
              "    <tr style=\"text-align: right;\">\n",
              "      <th></th>\n",
              "      <th>REF</th>\n",
              "      <th>Review Date</th>\n",
              "      <th>Rating</th>\n",
              "    </tr>\n",
              "  </thead>\n",
              "  <tbody>\n",
              "    <tr>\n",
              "      <th>count</th>\n",
              "      <td>1795.000000</td>\n",
              "      <td>1795.000000</td>\n",
              "      <td>1795.000000</td>\n",
              "    </tr>\n",
              "    <tr>\n",
              "      <th>mean</th>\n",
              "      <td>1035.904735</td>\n",
              "      <td>2012.325348</td>\n",
              "      <td>3.185933</td>\n",
              "    </tr>\n",
              "    <tr>\n",
              "      <th>std</th>\n",
              "      <td>552.886365</td>\n",
              "      <td>2.927210</td>\n",
              "      <td>0.478062</td>\n",
              "    </tr>\n",
              "    <tr>\n",
              "      <th>min</th>\n",
              "      <td>5.000000</td>\n",
              "      <td>2006.000000</td>\n",
              "      <td>1.000000</td>\n",
              "    </tr>\n",
              "    <tr>\n",
              "      <th>25%</th>\n",
              "      <td>576.000000</td>\n",
              "      <td>2010.000000</td>\n",
              "      <td>2.875000</td>\n",
              "    </tr>\n",
              "    <tr>\n",
              "      <th>50%</th>\n",
              "      <td>1069.000000</td>\n",
              "      <td>2013.000000</td>\n",
              "      <td>3.250000</td>\n",
              "    </tr>\n",
              "    <tr>\n",
              "      <th>75%</th>\n",
              "      <td>1502.000000</td>\n",
              "      <td>2015.000000</td>\n",
              "      <td>3.500000</td>\n",
              "    </tr>\n",
              "    <tr>\n",
              "      <th>max</th>\n",
              "      <td>1952.000000</td>\n",
              "      <td>2017.000000</td>\n",
              "      <td>5.000000</td>\n",
              "    </tr>\n",
              "  </tbody>\n",
              "</table>\n",
              "</div>"
            ],
            "text/plain": [
              "               REF  Review Date       Rating\n",
              "count  1795.000000  1795.000000  1795.000000\n",
              "mean   1035.904735  2012.325348     3.185933\n",
              "std     552.886365     2.927210     0.478062\n",
              "min       5.000000  2006.000000     1.000000\n",
              "25%     576.000000  2010.000000     2.875000\n",
              "50%    1069.000000  2013.000000     3.250000\n",
              "75%    1502.000000  2015.000000     3.500000\n",
              "max    1952.000000  2017.000000     5.000000"
            ]
          },
          "metadata": {
            "tags": []
          },
          "execution_count": 19
        }
      ]
    },
    {
      "cell_type": "code",
      "metadata": {
        "id": "FMnsGpAT7oab",
        "colab_type": "code",
        "outputId": "e14bcee0-ac4c-4aaf-8214-452cf212d199",
        "colab": {
          "base_uri": "https://localhost:8080/",
          "height": 34
        }
      },
      "source": [
        "# So the number of unique values must be equal the number of rows\n",
        "choco_bar['Company'].nunique() == choco_bar['Company'].count()"
      ],
      "execution_count": 20,
      "outputs": [
        {
          "output_type": "execute_result",
          "data": {
            "text/plain": [
              "False"
            ]
          },
          "metadata": {
            "tags": []
          },
          "execution_count": 20
        }
      ]
    },
    {
      "cell_type": "code",
      "metadata": {
        "id": "RK_4tycFYQbB",
        "colab_type": "code",
        "colab": {
          "base_uri": "https://localhost:8080/",
          "height": 34
        },
        "outputId": "e2b83be9-0266-43b6-8a00-05a2b3f247cc"
      },
      "source": [
        "choco_bar['Company'].nunique()"
      ],
      "execution_count": 48,
      "outputs": [
        {
          "output_type": "execute_result",
          "data": {
            "text/plain": [
              "416"
            ]
          },
          "metadata": {
            "tags": []
          },
          "execution_count": 48
        }
      ]
    },
    {
      "cell_type": "code",
      "metadata": {
        "id": "Ks0RlFqSYSbV",
        "colab_type": "code",
        "colab": {
          "base_uri": "https://localhost:8080/",
          "height": 34
        },
        "outputId": "d95b8d65-4191-41ca-c203-394a8b673b98"
      },
      "source": [
        "choco_bar['Company'].count()"
      ],
      "execution_count": 49,
      "outputs": [
        {
          "output_type": "execute_result",
          "data": {
            "text/plain": [
              "1795"
            ]
          },
          "metadata": {
            "tags": []
          },
          "execution_count": 49
        }
      ]
    },
    {
      "cell_type": "code",
      "metadata": {
        "id": "czCwWXOYYYo4",
        "colab_type": "code",
        "colab": {
          "base_uri": "https://localhost:8080/",
          "height": 34
        },
        "outputId": "8192538a-b1ef-4e37-bb23-6cebf63aebfb"
      },
      "source": [
        "choco_bar['Company'].str.lower().sort_values().nunique()\n",
        "# ten cong ty trung ten"
      ],
      "execution_count": 50,
      "outputs": [
        {
          "output_type": "execute_result",
          "data": {
            "text/plain": [
              "416"
            ]
          },
          "metadata": {
            "tags": []
          },
          "execution_count": 50
        }
      ]
    },
    {
      "cell_type": "code",
      "metadata": {
        "id": "vlecPK-r1A3N",
        "colab_type": "code",
        "outputId": "ea891a25-ca18-4a61-9957-8729cd6af47e",
        "colab": {
          "base_uri": "https://localhost:8080/",
          "height": 187
        }
      },
      "source": [
        "# clean data\n",
        "# check isnull\n",
        "choco_bar.isnull().sum()"
      ],
      "execution_count": 103,
      "outputs": [
        {
          "output_type": "execute_result",
          "data": {
            "text/plain": [
              "Company             0\n",
              "Origin Bar Name     0\n",
              "REF                 0\n",
              "Review Date         0\n",
              "Cocoa Percent       0\n",
              "Company Location    0\n",
              "Rating              0\n",
              "Bean Type           0\n",
              "Bean Origin         0\n",
              "dtype: int64"
            ]
          },
          "metadata": {
            "tags": []
          },
          "execution_count": 103
        }
      ]
    },
    {
      "cell_type": "code",
      "metadata": {
        "id": "xPk0Uk7wUq_e",
        "colab_type": "code",
        "colab": {
          "base_uri": "https://localhost:8080/",
          "height": 80
        },
        "outputId": "e96ea5fb-ec97-4b20-f12d-755fe36d49cf"
      },
      "source": [
        "choco_bar[choco_bar['Bean Type'].isnull()]"
      ],
      "execution_count": 44,
      "outputs": [
        {
          "output_type": "execute_result",
          "data": {
            "text/html": [
              "<div>\n",
              "<style scoped>\n",
              "    .dataframe tbody tr th:only-of-type {\n",
              "        vertical-align: middle;\n",
              "    }\n",
              "\n",
              "    .dataframe tbody tr th {\n",
              "        vertical-align: top;\n",
              "    }\n",
              "\n",
              "    .dataframe thead th {\n",
              "        text-align: right;\n",
              "    }\n",
              "</style>\n",
              "<table border=\"1\" class=\"dataframe\">\n",
              "  <thead>\n",
              "    <tr style=\"text-align: right;\">\n",
              "      <th></th>\n",
              "      <th>Company</th>\n",
              "      <th>Origin Bar Name</th>\n",
              "      <th>REF</th>\n",
              "      <th>Review Date</th>\n",
              "      <th>Cocoa Percent</th>\n",
              "      <th>Company Location</th>\n",
              "      <th>Rating</th>\n",
              "      <th>Bean Type</th>\n",
              "      <th>Bean Origin</th>\n",
              "    </tr>\n",
              "  </thead>\n",
              "  <tbody>\n",
              "    <tr>\n",
              "      <th>1544</th>\n",
              "      <td>Soma</td>\n",
              "      <td>Three Amigos(Chuao, Wild Bolivia, D.R.)</td>\n",
              "      <td>676</td>\n",
              "      <td>2011</td>\n",
              "      <td>70%</td>\n",
              "      <td>Canada</td>\n",
              "      <td>4.0</td>\n",
              "      <td>NaN</td>\n",
              "      <td>Ven, Bolivia, D.R.</td>\n",
              "    </tr>\n",
              "  </tbody>\n",
              "</table>\n",
              "</div>"
            ],
            "text/plain": [
              "     Company  ...         Bean Origin\n",
              "1544    Soma  ...  Ven, Bolivia, D.R.\n",
              "\n",
              "[1 rows x 9 columns]"
            ]
          },
          "metadata": {
            "tags": []
          },
          "execution_count": 44
        }
      ]
    },
    {
      "cell_type": "code",
      "metadata": {
        "id": "DimrikEHVLa9",
        "colab_type": "code",
        "colab": {
          "base_uri": "https://localhost:8080/",
          "height": 80
        },
        "outputId": "fd6e4d0b-bdd4-486b-9a9a-3847db61f367"
      },
      "source": [
        "choco_bar[choco_bar['Bean Origin'].isnull()]"
      ],
      "execution_count": 45,
      "outputs": [
        {
          "output_type": "execute_result",
          "data": {
            "text/html": [
              "<div>\n",
              "<style scoped>\n",
              "    .dataframe tbody tr th:only-of-type {\n",
              "        vertical-align: middle;\n",
              "    }\n",
              "\n",
              "    .dataframe tbody tr th {\n",
              "        vertical-align: top;\n",
              "    }\n",
              "\n",
              "    .dataframe thead th {\n",
              "        text-align: right;\n",
              "    }\n",
              "</style>\n",
              "<table border=\"1\" class=\"dataframe\">\n",
              "  <thead>\n",
              "    <tr style=\"text-align: right;\">\n",
              "      <th></th>\n",
              "      <th>Company</th>\n",
              "      <th>Origin Bar Name</th>\n",
              "      <th>REF</th>\n",
              "      <th>Review Date</th>\n",
              "      <th>Cocoa Percent</th>\n",
              "      <th>Company Location</th>\n",
              "      <th>Rating</th>\n",
              "      <th>Bean Type</th>\n",
              "      <th>Bean Origin</th>\n",
              "    </tr>\n",
              "  </thead>\n",
              "  <tbody>\n",
              "    <tr>\n",
              "      <th>1072</th>\n",
              "      <td>Mast Brothers</td>\n",
              "      <td>Madagascar</td>\n",
              "      <td>999</td>\n",
              "      <td>2012</td>\n",
              "      <td>72%</td>\n",
              "      <td>U.S.A.</td>\n",
              "      <td>2.5</td>\n",
              "      <td>Trinitario</td>\n",
              "      <td>NaN</td>\n",
              "    </tr>\n",
              "  </tbody>\n",
              "</table>\n",
              "</div>"
            ],
            "text/plain": [
              "            Company Origin Bar Name  REF  ...  Rating   Bean Type Bean Origin\n",
              "1072  Mast Brothers      Madagascar  999  ...     2.5  Trinitario         NaN\n",
              "\n",
              "[1 rows x 9 columns]"
            ]
          },
          "metadata": {
            "tags": []
          },
          "execution_count": 45
        }
      ]
    },
    {
      "cell_type": "markdown",
      "metadata": {
        "id": "iLZqdxjMVPS4",
        "colab_type": "text"
      },
      "source": [
        "<!--2 thuộc tính null không trùng nhau  -->"
      ]
    },
    {
      "cell_type": "code",
      "metadata": {
        "id": "xFIHXyVyzTeT",
        "colab_type": "code",
        "colab": {}
      },
      "source": [
        "# Fill the blanks\n",
        "choco_bar['Bean Type'].fillna(value=' ', inplace=True)\n"
      ],
      "execution_count": 0,
      "outputs": []
    },
    {
      "cell_type": "code",
      "metadata": {
        "id": "JtTUZGNPAfc2",
        "colab_type": "code",
        "colab": {}
      },
      "source": [
        "# Fill the blanks\n",
        "choco_bar['Bean Origin'].fillna(value=' ', inplace=True)\n"
      ],
      "execution_count": 0,
      "outputs": []
    },
    {
      "cell_type": "code",
      "metadata": {
        "id": "5pr2R_ff_9H8",
        "colab_type": "code",
        "outputId": "016854fd-f582-46e9-aff1-91ffa1747d00",
        "colab": {
          "base_uri": "https://localhost:8080/",
          "height": 187
        }
      },
      "source": [
        "choco_bar.isnull().sum()"
      ],
      "execution_count": 0,
      "outputs": [
        {
          "output_type": "execute_result",
          "data": {
            "text/plain": [
              "Company(Maker-if known)             0\n",
              "Specific Bean Origin or Bar Name    0\n",
              "REF                                 0\n",
              "Review Date                         0\n",
              "Cocoa Percent                       0\n",
              "Company Location                    0\n",
              "Rating                              0\n",
              "Bean Type                           0\n",
              "Broad Bean Origin                   0\n",
              "dtype: int64"
            ]
          },
          "metadata": {
            "tags": []
          },
          "execution_count": 16
        }
      ]
    },
    {
      "cell_type": "code",
      "metadata": {
        "id": "CyoEKBTCAP9B",
        "colab_type": "code",
        "outputId": "ee6e4209-d321-4d88-ce6d-927b039eb5f5",
        "colab": {
          "base_uri": "https://localhost:8080/",
          "height": 51
        }
      },
      "source": [
        "choco_bar['Review Date'].unique()"
      ],
      "execution_count": 14,
      "outputs": [
        {
          "output_type": "execute_result",
          "data": {
            "text/plain": [
              "array([2016, 2015, 2014, 2013, 2012, 2011, 2009, 2010, 2017, 2008, 2007,\n",
              "       2006])"
            ]
          },
          "metadata": {
            "tags": []
          },
          "execution_count": 14
        }
      ]
    },
    {
      "cell_type": "code",
      "metadata": {
        "id": "EPKyTutOHe5L",
        "colab_type": "code",
        "outputId": "f1227b9f-8b68-46b7-ff21-67525425e0fb",
        "colab": {
          "base_uri": "https://localhost:8080/",
          "height": 34
        }
      },
      "source": [
        "' '.join([\"\".join(x) for x in choco_bar.columns])"
      ],
      "execution_count": 0,
      "outputs": [
        {
          "output_type": "execute_result",
          "data": {
            "text/plain": [
              "'Company\\xa0(Maker-if known) Specific Bean Originor Bar Name REF ReviewDate CocoaPercent CompanyLocation Rating BeanType Broad BeanOrigin'"
            ]
          },
          "metadata": {
            "tags": []
          },
          "execution_count": 140
        }
      ]
    },
    {
      "cell_type": "code",
      "metadata": {
        "id": "p5VTSUWY3AnI",
        "colab_type": "code",
        "outputId": "9cc7d097-5e05-47a7-d160-0df881a268ff",
        "colab": {
          "base_uri": "https://localhost:8080/",
          "height": 51
        }
      },
      "source": [
        "choco_bar['Rating'].unique()\n"
      ],
      "execution_count": 0,
      "outputs": [
        {
          "output_type": "execute_result",
          "data": {
            "text/plain": [
              "array([3.75, 2.75, 3.  , 3.5 , 4.  , 3.25, 2.5 , 5.  , 1.75, 1.5 , 2.25,\n",
              "       2.  , 1.  ])"
            ]
          },
          "metadata": {
            "tags": []
          },
          "execution_count": 13
        }
      ]
    },
    {
      "cell_type": "code",
      "metadata": {
        "id": "hbtg04vpZNwZ",
        "colab_type": "code",
        "colab": {
          "base_uri": "https://localhost:8080/",
          "height": 1000
        },
        "outputId": "ab00cdd9-a0d9-4b3a-da2b-211584ab086e"
      },
      "source": [
        "# Bean Origin\n",
        "choco_bar['Bean Origin'].value_counts()\n",
        "\n",
        "# Bean Origin co chua nhieu ki tu, thay the cac ki tu thanh ','"
      ],
      "execution_count": 66,
      "outputs": [
        {
          "output_type": "execute_result",
          "data": {
            "text/plain": [
              "Venezuela                       214\n",
              "Ecuador                         193\n",
              "Peru                            165\n",
              "Madagascar                      145\n",
              "Dominican Republic              141\n",
              "                                 73\n",
              "Nicaragua                        60\n",
              "Brazil                           58\n",
              "Bolivia                          57\n",
              "Belize                           49\n",
              "Papua New Guinea                 42\n",
              "Colombia                         40\n",
              "Costa Rica                       38\n",
              "Vietnam                          38\n",
              "Tanzania                         34\n",
              "Ghana                            33\n",
              "Trinidad                         33\n",
              "Mexico                           30\n",
              "Hawaii                           28\n",
              "Guatemala                        28\n",
              "Domincan Republic                25\n",
              "Jamaica                          20\n",
              "Grenada                          19\n",
              "Indonesia                        16\n",
              "Honduras                         15\n",
              "Cuba                             11\n",
              "Sao Tome                         10\n",
              "Congo                            10\n",
              "Haiti                             9\n",
              "St. Lucia                         8\n",
              "                               ... \n",
              "Peru, Ecuador, Venezuela          1\n",
              "Suriname                          1\n",
              "Trinidad-Tobago                   1\n",
              "Venez,Africa,Brasil,Peru,Mex      1\n",
              "Dom. Rep., Madagascar             1\n",
              "Ghana, Panama, Ecuador            1\n",
              "Cost Rica, Ven                    1\n",
              "Venezuela/ Ghana                  1\n",
              "DR, Ecuador, Peru                 1\n",
              "Venezuela, Java                   1\n",
              "Venezuela, Dom. Rep.              1\n",
              "Venezuela, Trinidad               1\n",
              "Africa, Carribean, C. Am.         1\n",
              "Ghana & Madagascar                1\n",
              "Guat., D.R., Peru, Mad., PNG      1\n",
              "Principe                          1\n",
              "Carribean(DR/Jam/Tri)             1\n",
              "Ven., Indonesia, Ecuad.           1\n",
              "Peru, Mad., Dom. Rep.             1\n",
              "South America, Africa             1\n",
              "Ven, Bolivia, D.R.                1\n",
              "Peru, Ecuador                     1\n",
              "Peru, Dom. Rep                    1\n",
              "Ecuador, Costa Rica               1\n",
              "Madagascar & Ecuador              1\n",
              "Peru, Belize                      1\n",
              "Gabon                             1\n",
              "Gre., PNG, Haw., Haiti, Mad       1\n",
              "Venezuela, Carribean              1\n",
              "Ecuador, Mad., PNG                1\n",
              "Name: Bean Origin, Length: 101, dtype: int64"
            ]
          },
          "metadata": {
            "tags": []
          },
          "execution_count": 66
        }
      ]
    },
    {
      "cell_type": "code",
      "metadata": {
        "id": "f2HfKHgFayp3",
        "colab_type": "code",
        "colab": {}
      },
      "source": [
        ""
      ],
      "execution_count": 0,
      "outputs": []
    },
    {
      "cell_type": "code",
      "metadata": {
        "id": "E2P5b2usLsLo",
        "colab_type": "code",
        "outputId": "cb1db9c5-cead-43a7-e9ff-1ac99d87b77d",
        "colab": {
          "base_uri": "https://localhost:8080/",
          "height": 119
        }
      },
      "source": [
        "# Top 5 company choco had rated >= 4.\n",
        "choco_bar.sort_values(by=['Rating'],ascending=False)['Company'][:5]"
      ],
      "execution_count": 0,
      "outputs": [
        {
          "output_type": "execute_result",
          "data": {
            "text/plain": [
              "78                      Amedei\n",
              "86                      Amedei\n",
              "222                     Bonnat\n",
              "76                      Amedei\n",
              "1663    Tobago Estate (Pralus)\n",
              "Name: Company(Maker-if known), dtype: object"
            ]
          },
          "metadata": {
            "tags": []
          },
          "execution_count": 45
        }
      ]
    },
    {
      "cell_type": "code",
      "metadata": {
        "id": "sieMJFcdNuJQ",
        "colab_type": "code",
        "outputId": "81061161-be26-44ce-d753-9f2a3ccdde47",
        "colab": {
          "base_uri": "https://localhost:8080/",
          "height": 119
        }
      },
      "source": [
        "# 5 nguyen lieu dc dung pho bien\n",
        "choco_bar['Bean Type'].value_counts()[:5]"
      ],
      "execution_count": 0,
      "outputs": [
        {
          "output_type": "execute_result",
          "data": {
            "text/plain": [
              "                        887\n",
              "Trinitario              419\n",
              "Criollo                 153\n",
              "Forastero                87\n",
              "Forastero (Nacional)     52\n",
              "Name: Bean Type, dtype: int64"
            ]
          },
          "metadata": {
            "tags": []
          },
          "execution_count": 46
        }
      ]
    },
    {
      "cell_type": "markdown",
      "metadata": {
        "id": "81BfOBVzG7je",
        "colab_type": "text"
      },
      "source": [
        "<!-- Plot categorical data -->"
      ]
    },
    {
      "cell_type": "code",
      "metadata": {
        "id": "iFyfnOJgkPcI",
        "colab_type": "code",
        "colab": {}
      },
      "source": [
        "# "
      ],
      "execution_count": 0,
      "outputs": []
    },
    {
      "cell_type": "markdown",
      "metadata": {
        "id": "nOKYH5RpG-tn",
        "colab_type": "text"
      },
      "source": [
        "Plot categorical data"
      ]
    },
    {
      "cell_type": "code",
      "metadata": {
        "id": "BJKdVDer0_s5",
        "colab_type": "code",
        "outputId": "b19047ff-55c5-403c-b281-230452b53d3b",
        "colab": {
          "base_uri": "https://localhost:8080/",
          "height": 283
        }
      },
      "source": [
        "sns.countplot(x='Rating',data=choco_bar);\n",
        "# Thanh choco được các chuyên gia đánh giá trên mức 2,5-4. nhiều, một số ít từ 1.-2.25 và rất ít đạt 5."
      ],
      "execution_count": 0,
      "outputs": [
        {
          "output_type": "display_data",
          "data": {
            "image/png": "[encoded data removed]",
            "text/plain": [
              "<Figure size 432x288 with 1 Axes>"
            ]
          },
          "metadata": {
            "tags": []
          }
        }
      ]
    },
    {
      "cell_type": "code",
      "metadata": {
        "id": "UOhd1K4zG3Yh",
        "colab_type": "code",
        "outputId": "a21008dc-8bf0-4403-b30d-5f678808c9c4",
        "colab": {
          "base_uri": "https://localhost:8080/",
          "height": 269
        }
      },
      "source": [
        "# company choco thuong toa lat o dau\n",
        "choco_bar['Company Location'].value_counts()[:5].plot(kind='barh');"
      ],
      "execution_count": 0,
      "outputs": [
        {
          "output_type": "display_data",
          "data": {
            "image/png": "[encoded data removed]",
            "text/plain": [
              "<Figure size 432x288 with 1 Axes>"
            ]
          },
          "metadata": {
            "tags": []
          }
        }
      ]
    },
    {
      "cell_type": "code",
      "metadata": {
        "id": "tAWXpBt3emed",
        "colab_type": "code",
        "colab": {
          "base_uri": "https://localhost:8080/",
          "height": 390
        },
        "outputId": "d76b86fb-87c2-4a76-ffe4-6725d13e26f0"
      },
      "source": [
        "# Where does the best bean grown?\n",
        "choco_bar5=choco_bar.groupby('Bean Origin').sum().sort_values(by='Rating',ascending=False)[:10]\n",
        "choco_bar5\n"
      ],
      "execution_count": 75,
      "outputs": [
        {
          "output_type": "execute_result",
          "data": {
            "text/html": [
              "<div>\n",
              "<style scoped>\n",
              "    .dataframe tbody tr th:only-of-type {\n",
              "        vertical-align: middle;\n",
              "    }\n",
              "\n",
              "    .dataframe tbody tr th {\n",
              "        vertical-align: top;\n",
              "    }\n",
              "\n",
              "    .dataframe thead th {\n",
              "        text-align: right;\n",
              "    }\n",
              "</style>\n",
              "<table border=\"1\" class=\"dataframe\">\n",
              "  <thead>\n",
              "    <tr style=\"text-align: right;\">\n",
              "      <th></th>\n",
              "      <th>REF</th>\n",
              "      <th>Review Date</th>\n",
              "      <th>Rating</th>\n",
              "    </tr>\n",
              "    <tr>\n",
              "      <th>Bean Origin</th>\n",
              "      <th></th>\n",
              "      <th></th>\n",
              "      <th></th>\n",
              "    </tr>\n",
              "  </thead>\n",
              "  <tbody>\n",
              "    <tr>\n",
              "      <th>Venezuela</th>\n",
              "      <td>185936</td>\n",
              "      <td>430449</td>\n",
              "      <td>694.50</td>\n",
              "    </tr>\n",
              "    <tr>\n",
              "      <th>Ecuador</th>\n",
              "      <td>180829</td>\n",
              "      <td>388270</td>\n",
              "      <td>605.00</td>\n",
              "    </tr>\n",
              "    <tr>\n",
              "      <th>Peru</th>\n",
              "      <td>199897</td>\n",
              "      <td>332198</td>\n",
              "      <td>517.75</td>\n",
              "    </tr>\n",
              "    <tr>\n",
              "      <th>Madagascar</th>\n",
              "      <td>139513</td>\n",
              "      <td>291730</td>\n",
              "      <td>473.50</td>\n",
              "    </tr>\n",
              "    <tr>\n",
              "      <th>Dominican Republic</th>\n",
              "      <td>145635</td>\n",
              "      <td>283764</td>\n",
              "      <td>452.50</td>\n",
              "    </tr>\n",
              "    <tr>\n",
              "      <th></th>\n",
              "      <td>47867</td>\n",
              "      <td>146743</td>\n",
              "      <td>215.75</td>\n",
              "    </tr>\n",
              "    <tr>\n",
              "      <th>Nicaragua</th>\n",
              "      <td>79608</td>\n",
              "      <td>120835</td>\n",
              "      <td>192.00</td>\n",
              "    </tr>\n",
              "    <tr>\n",
              "      <th>Brazil</th>\n",
              "      <td>62784</td>\n",
              "      <td>116729</td>\n",
              "      <td>190.50</td>\n",
              "    </tr>\n",
              "    <tr>\n",
              "      <th>Bolivia</th>\n",
              "      <td>65705</td>\n",
              "      <td>114744</td>\n",
              "      <td>182.25</td>\n",
              "    </tr>\n",
              "    <tr>\n",
              "      <th>Belize</th>\n",
              "      <td>69330</td>\n",
              "      <td>98705</td>\n",
              "      <td>158.50</td>\n",
              "    </tr>\n",
              "  </tbody>\n",
              "</table>\n",
              "</div>"
            ],
            "text/plain": [
              "                       REF  Review Date  Rating\n",
              "Bean Origin                                    \n",
              "Venezuela           185936       430449  694.50\n",
              "Ecuador             180829       388270  605.00\n",
              "Peru                199897       332198  517.75\n",
              "Madagascar          139513       291730  473.50\n",
              "Dominican Republic  145635       283764  452.50\n",
              "                     47867       146743  215.75\n",
              "Nicaragua            79608       120835  192.00\n",
              "Brazil               62784       116729  190.50\n",
              "Bolivia              65705       114744  182.25\n",
              "Belize               69330        98705  158.50"
            ]
          },
          "metadata": {
            "tags": []
          },
          "execution_count": 75
        }
      ]
    },
    {
      "cell_type": "code",
      "metadata": {
        "id": "UMm87V6Ygr6q",
        "colab_type": "code",
        "colab": {
          "base_uri": "https://localhost:8080/",
          "height": 281
        },
        "outputId": "73356d11-dce8-48d9-e7e3-373ab24f0f19"
      },
      "source": [
        "choco_bar5=choco_bar.groupby('Bean Origin').sum().sort_values(by='Rating',ascending=False)[:10].plot(kind='barh', title=\"Chocolate Bar Rating vs Cocoa Bean Origins\");"
      ],
      "execution_count": 78,
      "outputs": [
        {
          "output_type": "display_data",
          "data": {
            "image/png": "[encoded data removed]",
            "text/plain": [
              "<Figure size 432x288 with 1 Axes>"
            ]
          },
          "metadata": {
            "tags": []
          }
        }
      ]
    },
    {
      "cell_type": "code",
      "metadata": {
        "id": "imlFomEJOpbt",
        "colab_type": "code",
        "colab": {}
      },
      "source": [
        "# ti le cocoa chiem bao nhieu %\n",
        "choco_bar['Cocoa Percent'].value_counts()\n"
      ],
      "execution_count": 0,
      "outputs": []
    },
    {
      "cell_type": "code",
      "metadata": {
        "id": "fX1LN2nDKh1W",
        "colab_type": "code",
        "outputId": "65e13286-ceba-49b8-fb77-a39a6d5964ec",
        "colab": {
          "base_uri": "https://localhost:8080/",
          "height": 483
        }
      },
      "source": [
        "choco_bar.groupby('Rating').sum()"
      ],
      "execution_count": 0,
      "outputs": [
        {
          "output_type": "execute_result",
          "data": {
            "text/html": [
              "<div>\n",
              "<style scoped>\n",
              "    .dataframe tbody tr th:only-of-type {\n",
              "        vertical-align: middle;\n",
              "    }\n",
              "\n",
              "    .dataframe tbody tr th {\n",
              "        vertical-align: top;\n",
              "    }\n",
              "\n",
              "    .dataframe thead th {\n",
              "        text-align: right;\n",
              "    }\n",
              "</style>\n",
              "<table border=\"1\" class=\"dataframe\">\n",
              "  <thead>\n",
              "    <tr style=\"text-align: right;\">\n",
              "      <th></th>\n",
              "      <th>REF</th>\n",
              "      <th>Review Date</th>\n",
              "    </tr>\n",
              "    <tr>\n",
              "      <th>Rating</th>\n",
              "      <th></th>\n",
              "      <th></th>\n",
              "    </tr>\n",
              "  </thead>\n",
              "  <tbody>\n",
              "    <tr>\n",
              "      <th>1.00</th>\n",
              "      <td>576</td>\n",
              "      <td>8028</td>\n",
              "    </tr>\n",
              "    <tr>\n",
              "      <th>1.50</th>\n",
              "      <td>4624</td>\n",
              "      <td>20092</td>\n",
              "    </tr>\n",
              "    <tr>\n",
              "      <th>1.75</th>\n",
              "      <td>1962</td>\n",
              "      <td>6032</td>\n",
              "    </tr>\n",
              "    <tr>\n",
              "      <th>2.00</th>\n",
              "      <td>13075</td>\n",
              "      <td>64277</td>\n",
              "    </tr>\n",
              "    <tr>\n",
              "      <th>2.25</th>\n",
              "      <td>16511</td>\n",
              "      <td>28184</td>\n",
              "    </tr>\n",
              "    <tr>\n",
              "      <th>2.50</th>\n",
              "      <td>123867</td>\n",
              "      <td>255534</td>\n",
              "    </tr>\n",
              "    <tr>\n",
              "      <th>2.75</th>\n",
              "      <td>281946</td>\n",
              "      <td>521276</td>\n",
              "    </tr>\n",
              "    <tr>\n",
              "      <th>3.00</th>\n",
              "      <td>307245</td>\n",
              "      <td>685953</td>\n",
              "    </tr>\n",
              "    <tr>\n",
              "      <th>3.25</th>\n",
              "      <td>360628</td>\n",
              "      <td>609993</td>\n",
              "    </tr>\n",
              "    <tr>\n",
              "      <th>3.50</th>\n",
              "      <td>438361</td>\n",
              "      <td>788997</td>\n",
              "    </tr>\n",
              "    <tr>\n",
              "      <th>3.75</th>\n",
              "      <td>232337</td>\n",
              "      <td>422674</td>\n",
              "    </tr>\n",
              "    <tr>\n",
              "      <th>4.00</th>\n",
              "      <td>78166</td>\n",
              "      <td>197071</td>\n",
              "    </tr>\n",
              "    <tr>\n",
              "      <th>5.00</th>\n",
              "      <td>151</td>\n",
              "      <td>4013</td>\n",
              "    </tr>\n",
              "  </tbody>\n",
              "</table>\n",
              "</div>"
            ],
            "text/plain": [
              "           REF  Review Date\n",
              "Rating                     \n",
              "1.00       576         8028\n",
              "1.50      4624        20092\n",
              "1.75      1962         6032\n",
              "2.00     13075        64277\n",
              "2.25     16511        28184\n",
              "2.50    123867       255534\n",
              "2.75    281946       521276\n",
              "3.00    307245       685953\n",
              "3.25    360628       609993\n",
              "3.50    438361       788997\n",
              "3.75    232337       422674\n",
              "4.00     78166       197071\n",
              "5.00       151         4013"
            ]
          },
          "metadata": {
            "tags": []
          },
          "execution_count": 30
        }
      ]
    },
    {
      "cell_type": "code",
      "metadata": {
        "id": "QLdTOmjcIIub",
        "colab_type": "code",
        "colab": {}
      },
      "source": [
        "# google Gpread\n"
      ],
      "execution_count": 0,
      "outputs": []
    },
    {
      "cell_type": "code",
      "metadata": {
        "id": "GKRvO7p-RyGK",
        "colab_type": "code",
        "colab": {}
      },
      "source": [
        "def check_exists(path):\n",
        "# open the file. If exist return True\n",
        "# Your code here\n",
        "  try:\n",
        "    sh=gc.open(path)\n",
        "    return True\n",
        "  except:\n",
        "    return False"
      ],
      "execution_count": 0,
      "outputs": []
    },
    {
      "cell_type": "code",
      "metadata": {
        "id": "hzwQC7sPR1KS",
        "colab_type": "code",
        "colab": {}
      },
      "source": [
        "def create_new_worksheet(path='worksheet', sheets={\"sheet1\":\"\"}):\n",
        "    if check_exists(path):\n",
        "        print('create_new_worksheet(): File exists')\n",
        "        return gc.open(path)\n",
        "    sh = gc.create(path)\n",
        "    for name, cols in sheets.items():\n",
        "        sh.add_worksheet(title=name, rows=\"100\", cols=\"100\")\n",
        "        sh.values_update(\n",
        "            name + '!A1',\n",
        "            params={'valueInputOption': 'RAW'},\n",
        "            body={'values': [cols]}\n",
        "        )      \n",
        "#     sh.del_worksheet(sh.sheet1)\n",
        "#     return sh\n"
      ],
      "execution_count": 0,
      "outputs": []
    },
    {
      "cell_type": "code",
      "metadata": {
        "id": "VDXLtRDGR8wn",
        "colab_type": "code",
        "colab": {}
      },
      "source": [
        "sheets = {\n",
        "    # Sheet name: column in this sheet\n",
        "    'Chocolate_bar123': choco_bar.columns.values.tolist()\n",
        "}"
      ],
      "execution_count": 0,
      "outputs": []
    },
    {
      "cell_type": "code",
      "metadata": {
        "id": "1kTiXpLBlYFd",
        "colab_type": "code",
        "colab": {
          "base_uri": "https://localhost:8080/",
          "height": 170
        },
        "outputId": "f428c843-61cb-4f20-d927-a764068a96a5"
      },
      "source": [
        "sheets"
      ],
      "execution_count": 107,
      "outputs": [
        {
          "output_type": "execute_result",
          "data": {
            "text/plain": [
              "{'Chocolate_bar': ['Company',\n",
              "  'Origin Bar Name',\n",
              "  'REF',\n",
              "  'Review Date',\n",
              "  'Cocoa Percent',\n",
              "  'Company Location',\n",
              "  'Rating',\n",
              "  'Bean Type',\n",
              "  'Bean Origin']}"
            ]
          },
          "metadata": {
            "tags": []
          },
          "execution_count": 107
        }
      ]
    },
    {
      "cell_type": "code",
      "metadata": {
        "id": "lTsREQ2USV8O",
        "colab_type": "code",
        "outputId": "978cf40f-513e-4490-b9ef-07c6f94a3b35",
        "colab": {
          "base_uri": "https://localhost:8080/",
          "height": 34
        }
      },
      "source": [
        "choco = create_new_worksheet('Chocolate_bar123',sheets)"
      ],
      "execution_count": 123,
      "outputs": [
        {
          "output_type": "stream",
          "text": [
            "create_new_worksheet(): File exists\n"
          ],
          "name": "stdout"
        }
      ]
    },
    {
      "cell_type": "code",
      "metadata": {
        "id": "GHVdO3JWSixM",
        "colab_type": "code",
        "outputId": "8c46bfe8-d283-4cd7-ef85-93941eb73a20",
        "colab": {
          "base_uri": "https://localhost:8080/",
          "height": 102
        }
      },
      "source": [
        "# Push dataframe to google spreadsheet\n",
        "choco.values_update(\n",
        "     'Chocolate_bar123!A2',\n",
        "    params={'valueInputOption': 'RAW'},\n",
        "    body={'values':choco_bar.fillna('').values.tolist()}\n",
        "    \n",
        "    \n",
        "    \n",
        "    \n",
        ")"
      ],
      "execution_count": 124,
      "outputs": [
        {
          "output_type": "execute_result",
          "data": {
            "text/plain": [
              "{'spreadsheetId': '1GL5RsMm3eHYBYpHxT0yA8HG1GoXj1Qj8GoG7oQ-70JA',\n",
              " 'updatedCells': 16155,\n",
              " 'updatedColumns': 9,\n",
              " 'updatedRange': 'Chocolate_bar123!A2:I1796',\n",
              " 'updatedRows': 1795}"
            ]
          },
          "metadata": {
            "tags": []
          },
          "execution_count": 124
        }
      ]
    },
    {
      "cell_type": "code",
      "metadata": {
        "id": "5pRpgtcpTWl6",
        "colab_type": "code",
        "colab": {}
      },
      "source": [
        "#  Get google spreadsheet data as dataframe\n",
        "df = pd.DataFrame(choco.sheet1.get_all_records()) "
      ],
      "execution_count": 0,
      "outputs": []
    },
    {
      "cell_type": "code",
      "metadata": {
        "id": "eMxvLL5JTf2t",
        "colab_type": "code",
        "outputId": "7a3dd4c9-5073-40be-f04f-3fbf65969fcf",
        "colab": {
          "base_uri": "https://localhost:8080/",
          "height": 204
        }
      },
      "source": [
        "df.head()"
      ],
      "execution_count": 114,
      "outputs": [
        {
          "output_type": "execute_result",
          "data": {
            "text/html": [
              "<div>\n",
              "<style scoped>\n",
              "    .dataframe tbody tr th:only-of-type {\n",
              "        vertical-align: middle;\n",
              "    }\n",
              "\n",
              "    .dataframe tbody tr th {\n",
              "        vertical-align: top;\n",
              "    }\n",
              "\n",
              "    .dataframe thead th {\n",
              "        text-align: right;\n",
              "    }\n",
              "</style>\n",
              "<table border=\"1\" class=\"dataframe\">\n",
              "  <thead>\n",
              "    <tr style=\"text-align: right;\">\n",
              "      <th></th>\n",
              "      <th>Bean Origin</th>\n",
              "      <th>Bean Type</th>\n",
              "      <th>Cocoa Percent</th>\n",
              "      <th>Company</th>\n",
              "      <th>Company Location</th>\n",
              "      <th>Origin Bar Name</th>\n",
              "      <th>REF</th>\n",
              "      <th>Rating</th>\n",
              "      <th>Review Date</th>\n",
              "    </tr>\n",
              "  </thead>\n",
              "  <tbody>\n",
              "    <tr>\n",
              "      <th>0</th>\n",
              "      <td>Sao Tome</td>\n",
              "      <td></td>\n",
              "      <td>63%</td>\n",
              "      <td>A. Morin</td>\n",
              "      <td>France</td>\n",
              "      <td>Agua Grande</td>\n",
              "      <td>1876</td>\n",
              "      <td>3.75</td>\n",
              "      <td>2016</td>\n",
              "    </tr>\n",
              "    <tr>\n",
              "      <th>1</th>\n",
              "      <td>Togo</td>\n",
              "      <td></td>\n",
              "      <td>70%</td>\n",
              "      <td>A. Morin</td>\n",
              "      <td>France</td>\n",
              "      <td>Kpime</td>\n",
              "      <td>1676</td>\n",
              "      <td>2.75</td>\n",
              "      <td>2015</td>\n",
              "    </tr>\n",
              "    <tr>\n",
              "      <th>2</th>\n",
              "      <td>Togo</td>\n",
              "      <td></td>\n",
              "      <td>70%</td>\n",
              "      <td>A. Morin</td>\n",
              "      <td>France</td>\n",
              "      <td>Atsane</td>\n",
              "      <td>1676</td>\n",
              "      <td>3.00</td>\n",
              "      <td>2015</td>\n",
              "    </tr>\n",
              "    <tr>\n",
              "      <th>3</th>\n",
              "      <td>Togo</td>\n",
              "      <td></td>\n",
              "      <td>70%</td>\n",
              "      <td>A. Morin</td>\n",
              "      <td>France</td>\n",
              "      <td>Akata</td>\n",
              "      <td>1680</td>\n",
              "      <td>3.50</td>\n",
              "      <td>2015</td>\n",
              "    </tr>\n",
              "    <tr>\n",
              "      <th>4</th>\n",
              "      <td>Peru</td>\n",
              "      <td></td>\n",
              "      <td>70%</td>\n",
              "      <td>A. Morin</td>\n",
              "      <td>France</td>\n",
              "      <td>Quilla</td>\n",
              "      <td>1704</td>\n",
              "      <td>3.50</td>\n",
              "      <td>2015</td>\n",
              "    </tr>\n",
              "  </tbody>\n",
              "</table>\n",
              "</div>"
            ],
            "text/plain": [
              "  Bean Origin Bean Type Cocoa Percent  ...   REF Rating Review Date\n",
              "0    Sao Tome                     63%  ...  1876   3.75        2016\n",
              "1        Togo                     70%  ...  1676   2.75        2015\n",
              "2        Togo                     70%  ...  1676   3.00        2015\n",
              "3        Togo                     70%  ...  1680   3.50        2015\n",
              "4        Peru                     70%  ...  1704   3.50        2015\n",
              "\n",
              "[5 rows x 9 columns]"
            ]
          },
          "metadata": {
            "tags": []
          },
          "execution_count": 114
        }
      ]
    }
  ]
}